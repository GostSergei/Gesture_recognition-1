{
 "cells": [
  {
   "cell_type": "code",
   "execution_count": 30,
   "id": "ab436e9d",
   "metadata": {},
   "outputs": [],
   "source": [
    "import numpy as np\n",
    "import matplotlib.pyplot as plt\n",
    "from tqdm import tqdm\n",
    "\n",
    "from scipy.io import loadmat, savemat\n",
    "from scipy import signal\n",
    "from tqdm import tqdm\n",
    "import pickle"
   ]
  },
  {
   "cell_type": "code",
   "execution_count": null,
   "id": "7090a6ea",
   "metadata": {},
   "outputs": [],
   "source": [
    "from sklearn.model_selection import train_test_split\n",
    "from sklearn.metrics import accuracy_score\n",
    "from sklearn.preprocessing import StandardScaler\n",
    "from sklearn.model_selection import cross_val_score\n",
    "from sklearn.utils import shuffle"
   ]
  },
  {
   "cell_type": "code",
   "execution_count": null,
   "id": "2bfecdc8",
   "metadata": {},
   "outputs": [],
   "source": [
    "from sklearn.discriminant_analysis import LinearDiscriminantAnalysis\n",
    "from sklearn.neighbors import KNeighborsClassifier\n",
    "from sklearn.ensemble import RandomForestClassifier\n",
    "from sklearn.linear_model import LogisticRegression"
   ]
  },
  {
   "cell_type": "code",
   "execution_count": 4,
   "id": "4199e0e4",
   "metadata": {},
   "outputs": [],
   "source": [
    "# function to online \n",
    "def shift_scale_sample_4d(data, copy_data=True, do_flip=True):\n",
    "    P_SHOULDER_LEFT, P_SHOULDER_RIGHT = 11, 12\n",
    "    P_HIP_LEFT, P_HIP_RIGHT = 23, 24\n",
    "    K_HEIGHT_TO_WIDTH = 1\n",
    "    \n",
    "    if copy_data:\n",
    "        data = data.copy()\n",
    "    \n",
    "    # 0) flip Y\n",
    "    if do_flip:\n",
    "        data[:, :, :, 1] *= -1\n",
    "\n",
    "    # 1) shifting\n",
    "    origin_shoulders = 0.5*(data[:, :, P_SHOULDER_LEFT:P_SHOULDER_LEFT+1, :2] + data[:, :, P_SHOULDER_RIGHT:P_SHOULDER_RIGHT+1, :2] )\n",
    "    # origin_hips = 0.5*(data[:, :, P_HIP_LEFT:P_HIP_LEFT+1, :2] + data[:, :, P_HIP_RIGHT:P_HIP_RIGHT+1, :2] )\n",
    "    data = data - origin_shoulders\n",
    "\n",
    "    # 2) scaling\n",
    "    kx = 1 / data[:, :, P_SHOULDER_LEFT:P_SHOULDER_LEFT+1, 0]\n",
    "    origin_hips_new = 0.5*(data[:, :, P_HIP_LEFT:P_HIP_LEFT+1, :2] + data[:, :, P_HIP_RIGHT:P_HIP_RIGHT+1, :2] )\n",
    "    # origin_shoulders_new = 0.5*(data[:, :, P_SHOULDER_LEFT:P_SHOULDER_LEFT+1, :2] + data[:, :, P_SHOULDER_RIGHT:P_SHOULDER_RIGHT+1, :2] )\n",
    "\n",
    "    ky = K_HEIGHT_TO_WIDTH / origin_hips_new[:, :, :, 1]\n",
    "    data[:, :, :, 0] *=  kx\n",
    "    data[:, :, :, 1] *=  -ky\n",
    "    \n",
    "    return data"
   ]
  },
  {
   "cell_type": "code",
   "execution_count": 5,
   "id": "82b8f7ac",
   "metadata": {},
   "outputs": [],
   "source": [
    "# data_4d__ = shift_scale_sample_4d(data_4d, copy_data=True, do_flip=True)\n",
    "# data_4d__.shape"
   ]
  },
  {
   "cell_type": "markdown",
   "id": "5acaa518",
   "metadata": {},
   "source": [
    "### loading data"
   ]
  },
  {
   "cell_type": "code",
   "execution_count": 6,
   "id": "cbf4b8e8",
   "metadata": {},
   "outputs": [],
   "source": [
    "mt_file_clean = loadmat('data/ALIGNED_CLEANED_gestures_4d_full.mat')"
   ]
  },
  {
   "cell_type": "code",
   "execution_count": 7,
   "id": "14b9338e",
   "metadata": {},
   "outputs": [
    {
     "data": {
      "text/plain": [
       "dict_keys(['__header__', '__version__', '__globals__', 'labels', 'data', 'starts', 'stops'])"
      ]
     },
     "execution_count": 7,
     "metadata": {},
     "output_type": "execute_result"
    }
   ],
   "source": [
    "mt_file_clean.keys()"
   ]
  },
  {
   "cell_type": "code",
   "execution_count": 8,
   "id": "e72e37d3",
   "metadata": {},
   "outputs": [
    {
     "data": {
      "text/plain": [
       "array([ 0,  1,  2, ...,  6, 27, 42], dtype=int64)"
      ]
     },
     "execution_count": 8,
     "metadata": {},
     "output_type": "execute_result"
    }
   ],
   "source": [
    "labels_full = mt_file_clean['labels'][0]\n",
    "labels_full"
   ]
  },
  {
   "cell_type": "code",
   "execution_count": 9,
   "id": "2c7eee3c",
   "metadata": {},
   "outputs": [
    {
     "data": {
      "text/plain": [
       "(7153, 120, 67, 3)"
      ]
     },
     "execution_count": 9,
     "metadata": {},
     "output_type": "execute_result"
    }
   ],
   "source": [
    "data_full = mt_file_clean['data']\n",
    "data_full.shape"
   ]
  },
  {
   "cell_type": "code",
   "execution_count": 10,
   "id": "0abc3702",
   "metadata": {},
   "outputs": [
    {
     "data": {
      "text/plain": [
       "(7153, 120, 67, 2)"
      ]
     },
     "execution_count": 10,
     "metadata": {},
     "output_type": "execute_result"
    }
   ],
   "source": [
    "data_4d = data_full[::,::,::,0:2]\n",
    "data_4d.shape"
   ]
  },
  {
   "cell_type": "code",
   "execution_count": 11,
   "id": "e0469c75",
   "metadata": {},
   "outputs": [
    {
     "data": {
      "text/plain": [
       "(7153, 120, 67, 2)"
      ]
     },
     "execution_count": 11,
     "metadata": {},
     "output_type": "execute_result"
    }
   ],
   "source": [
    "# # scaling\n",
    "data_4d = shift_scale_sample_4d(data_4d, copy_data=True, do_flip=True)\n",
    "data_4d.shape"
   ]
  },
  {
   "cell_type": "code",
   "execution_count": 12,
   "id": "1139c137",
   "metadata": {},
   "outputs": [
    {
     "data": {
      "text/plain": [
       "(array([20, 20, 20, ..., 20, 20, 20], dtype=int64),\n",
       " array([72, 61, 69, ..., 61, 67, 70], dtype=int64))"
      ]
     },
     "execution_count": 12,
     "metadata": {},
     "output_type": "execute_result"
    }
   ],
   "source": [
    "starts, stops = mt_file_clean['starts'][0], mt_file_clean['stops'][0]\n",
    "(starts, stops)"
   ]
  },
  {
   "cell_type": "markdown",
   "id": "ac352b2a",
   "metadata": {},
   "source": [
    "### Dataset preparation"
   ]
  },
  {
   "cell_type": "code",
   "execution_count": 13,
   "id": "b1d5587f",
   "metadata": {},
   "outputs": [
    {
     "data": {
      "text/plain": [
       "(7153, 120, 134)"
      ]
     },
     "execution_count": 13,
     "metadata": {},
     "output_type": "execute_result"
    }
   ],
   "source": [
    "data_3d_full = data_4d.reshape(data_4d.shape[0], data_4d.shape[1], data_4d.shape[2]*data_4d.shape[3])\n",
    "data_3d_full.shape"
   ]
  },
  {
   "cell_type": "code",
   "execution_count": 14,
   "id": "daf22075",
   "metadata": {},
   "outputs": [
    {
     "data": {
      "text/plain": [
       "(6437, 120, 134)"
      ]
     },
     "execution_count": 14,
     "metadata": {},
     "output_type": "execute_result"
    }
   ],
   "source": [
    "data_3d_train, data_3d_test, labels_train, labels_test = train_test_split(data_3d_full, labels_full, test_size=0.1)\n",
    "\n",
    "data_3d_train.shape"
   ]
  },
  {
   "cell_type": "markdown",
   "id": "c5065a27",
   "metadata": {},
   "source": [
    "### Classifiers"
   ]
  },
  {
   "cell_type": "code",
   "execution_count": 15,
   "id": "0bdc5709",
   "metadata": {},
   "outputs": [],
   "source": [
    "LDA = LinearDiscriminantAnalysis()\n",
    "KNN = KNeighborsClassifier(n_neighbors=5)\n",
    "RF = RandomForestClassifier(max_depth=10, n_estimators=50)\n",
    "LR = LogisticRegression()"
   ]
  },
  {
   "cell_type": "markdown",
   "id": "8e819280",
   "metadata": {},
   "source": [
    "### 1. Right/wrong window classifier"
   ]
  },
  {
   "cell_type": "code",
   "execution_count": null,
   "id": "88593113",
   "metadata": {},
   "outputs": [],
   "source": []
  },
  {
   "cell_type": "code",
   "execution_count": 16,
   "id": "ef26f8da",
   "metadata": {},
   "outputs": [
    {
     "name": "stderr",
     "output_type": "stream",
     "text": [
      "100%|███████████████████████████████████████████████████████████████████████████████| 21/21 [00:00<00:00, 21076.90it/s]"
     ]
    },
    {
     "name": "stdout",
     "output_type": "stream",
     "text": [
      "18\n",
      "3\n"
     ]
    },
    {
     "name": "stderr",
     "output_type": "stream",
     "text": [
      "\n"
     ]
    }
   ],
   "source": [
    "window_data_true = []\n",
    "window_data_false = []\n",
    "\n",
    "window_size = 20\n",
    "steps = np.arange(0,101,5)\n",
    "\n",
    "for strt in tqdm(steps):\n",
    "    data_3d_slice = data_3d_train[::,::,::]\n",
    "    data_2d = data_3d_slice[::,strt:strt+window_size,::].reshape(data_3d_slice.shape[0],\n",
    "                                                                 window_size*data_3d_slice.shape[2])\n",
    "    if strt >= 20 and strt <= 30:\n",
    "        window_data_true.append(data_2d)\n",
    "    else:\n",
    "        window_data_false.append(data_2d)\n",
    "        \n",
    "print(len(window_data_false))\n",
    "print(len(window_data_true))"
   ]
  },
  {
   "cell_type": "code",
   "execution_count": 17,
   "id": "8f4c400d",
   "metadata": {},
   "outputs": [],
   "source": [
    "def rnd_indx(coef=3/18):\n",
    "    return np.random.choice(window_data_true[0].shape[0], size=int(window_data_true[0].shape[0]*coef))"
   ]
  },
  {
   "cell_type": "code",
   "execution_count": 18,
   "id": "f4d0945b",
   "metadata": {},
   "outputs": [
    {
     "name": "stdout",
     "output_type": "stream",
     "text": [
      "(38607, 2680)\n",
      "38607\n"
     ]
    }
   ],
   "source": [
    "window_data_array_true = np.concatenate(window_data_true)\n",
    "window_data_array_false = np.concatenate([x[rnd_indx()] for x in window_data_false])\n",
    "window_data_array = np.concatenate([window_data_array_true, window_data_array_false])\n",
    "window_labels = [1]*window_data_array_true.shape[0] + [0]*window_data_array_false.shape[0]\n",
    "\n",
    "\n",
    "window_data_array, window_labels = shuffle(window_data_array, window_labels, random_state=0)\n",
    "\n",
    "print(window_data_array.shape)\n",
    "print(len(window_labels))"
   ]
  },
  {
   "cell_type": "code",
   "execution_count": 22,
   "id": "b4cd6017",
   "metadata": {},
   "outputs": [],
   "source": [
    "from sklearn.pipeline import Pipeline\n",
    "pipe = Pipeline([('scaler', StandardScaler()), ('LR', LogisticRegression())])"
   ]
  },
  {
   "cell_type": "code",
   "execution_count": 23,
   "id": "fca76847",
   "metadata": {},
   "outputs": [],
   "source": [
    "# scaler = StandardScaler()\n",
    "# data_2d_window = scaler.fit_transform(window_data_array.T).T"
   ]
  },
  {
   "cell_type": "code",
   "execution_count": 24,
   "id": "359709e7",
   "metadata": {},
   "outputs": [
    {
     "name": "stderr",
     "output_type": "stream",
     "text": [
      "C:\\Users\\79219\\anaconda3\\lib\\site-packages\\sklearn\\linear_model\\_logistic.py:814: ConvergenceWarning: lbfgs failed to converge (status=1):\n",
      "STOP: TOTAL NO. of ITERATIONS REACHED LIMIT.\n",
      "\n",
      "Increase the number of iterations (max_iter) or scale the data as shown in:\n",
      "    https://scikit-learn.org/stable/modules/preprocessing.html\n",
      "Please also refer to the documentation for alternative solver options:\n",
      "    https://scikit-learn.org/stable/modules/linear_model.html#logistic-regression\n",
      "  n_iter_i = _check_optimize_result(\n",
      "C:\\Users\\79219\\anaconda3\\lib\\site-packages\\sklearn\\linear_model\\_logistic.py:814: ConvergenceWarning: lbfgs failed to converge (status=1):\n",
      "STOP: TOTAL NO. of ITERATIONS REACHED LIMIT.\n",
      "\n",
      "Increase the number of iterations (max_iter) or scale the data as shown in:\n",
      "    https://scikit-learn.org/stable/modules/preprocessing.html\n",
      "Please also refer to the documentation for alternative solver options:\n",
      "    https://scikit-learn.org/stable/modules/linear_model.html#logistic-regression\n",
      "  n_iter_i = _check_optimize_result(\n",
      "C:\\Users\\79219\\anaconda3\\lib\\site-packages\\sklearn\\linear_model\\_logistic.py:814: ConvergenceWarning: lbfgs failed to converge (status=1):\n",
      "STOP: TOTAL NO. of ITERATIONS REACHED LIMIT.\n",
      "\n",
      "Increase the number of iterations (max_iter) or scale the data as shown in:\n",
      "    https://scikit-learn.org/stable/modules/preprocessing.html\n",
      "Please also refer to the documentation for alternative solver options:\n",
      "    https://scikit-learn.org/stable/modules/linear_model.html#logistic-regression\n",
      "  n_iter_i = _check_optimize_result(\n",
      "C:\\Users\\79219\\anaconda3\\lib\\site-packages\\sklearn\\linear_model\\_logistic.py:814: ConvergenceWarning: lbfgs failed to converge (status=1):\n",
      "STOP: TOTAL NO. of ITERATIONS REACHED LIMIT.\n",
      "\n",
      "Increase the number of iterations (max_iter) or scale the data as shown in:\n",
      "    https://scikit-learn.org/stable/modules/preprocessing.html\n",
      "Please also refer to the documentation for alternative solver options:\n",
      "    https://scikit-learn.org/stable/modules/linear_model.html#logistic-regression\n",
      "  n_iter_i = _check_optimize_result(\n",
      "C:\\Users\\79219\\anaconda3\\lib\\site-packages\\sklearn\\linear_model\\_logistic.py:814: ConvergenceWarning: lbfgs failed to converge (status=1):\n",
      "STOP: TOTAL NO. of ITERATIONS REACHED LIMIT.\n",
      "\n",
      "Increase the number of iterations (max_iter) or scale the data as shown in:\n",
      "    https://scikit-learn.org/stable/modules/preprocessing.html\n",
      "Please also refer to the documentation for alternative solver options:\n",
      "    https://scikit-learn.org/stable/modules/linear_model.html#logistic-regression\n",
      "  n_iter_i = _check_optimize_result(\n"
     ]
    },
    {
     "name": "stdout",
     "output_type": "stream",
     "text": [
      "[0.88940689 0.88720539 0.88498899 0.89094677 0.88460044]\n"
     ]
    }
   ],
   "source": [
    "cv_scores = cross_val_score(estimator=pipe, X=window_data_array, y=window_labels)\n",
    "print(cv_scores)"
   ]
  },
  {
   "cell_type": "code",
   "execution_count": 25,
   "id": "18f5061c",
   "metadata": {},
   "outputs": [
    {
     "name": "stderr",
     "output_type": "stream",
     "text": [
      "C:\\Users\\79219\\anaconda3\\lib\\site-packages\\sklearn\\linear_model\\_logistic.py:814: ConvergenceWarning: lbfgs failed to converge (status=1):\n",
      "STOP: TOTAL NO. of ITERATIONS REACHED LIMIT.\n",
      "\n",
      "Increase the number of iterations (max_iter) or scale the data as shown in:\n",
      "    https://scikit-learn.org/stable/modules/preprocessing.html\n",
      "Please also refer to the documentation for alternative solver options:\n",
      "    https://scikit-learn.org/stable/modules/linear_model.html#logistic-regression\n",
      "  n_iter_i = _check_optimize_result(\n"
     ]
    },
    {
     "data": {
      "text/plain": [
       "Pipeline(steps=[('scaler', StandardScaler()), ('LR', LogisticRegression())])"
      ]
     },
     "execution_count": 25,
     "metadata": {},
     "output_type": "execute_result"
    }
   ],
   "source": [
    "LR_window_clf = Pipeline([('scaler', StandardScaler()), ('LR', LR)])\n",
    "LR_window_clf.fit(window_data_array, window_labels)"
   ]
  },
  {
   "cell_type": "code",
   "execution_count": 31,
   "id": "68a398e5",
   "metadata": {},
   "outputs": [],
   "source": [
    "with open('LR_window_clf.pkl', 'wb') as f:\n",
    "    pickle.dump(LR_window_clf, f)"
   ]
  },
  {
   "cell_type": "markdown",
   "id": "33da1630",
   "metadata": {},
   "source": [
    "### 2. Gesture classifier"
   ]
  },
  {
   "cell_type": "code",
   "execution_count": 27,
   "id": "1c83fc00",
   "metadata": {},
   "outputs": [
    {
     "name": "stderr",
     "output_type": "stream",
     "text": [
      "C:\\Users\\79219\\anaconda3\\lib\\site-packages\\sklearn\\linear_model\\_logistic.py:814: ConvergenceWarning: lbfgs failed to converge (status=1):\n",
      "STOP: TOTAL NO. of ITERATIONS REACHED LIMIT.\n",
      "\n",
      "Increase the number of iterations (max_iter) or scale the data as shown in:\n",
      "    https://scikit-learn.org/stable/modules/preprocessing.html\n",
      "Please also refer to the documentation for alternative solver options:\n",
      "    https://scikit-learn.org/stable/modules/linear_model.html#logistic-regression\n",
      "  n_iter_i = _check_optimize_result(\n",
      "C:\\Users\\79219\\anaconda3\\lib\\site-packages\\sklearn\\linear_model\\_logistic.py:814: ConvergenceWarning: lbfgs failed to converge (status=1):\n",
      "STOP: TOTAL NO. of ITERATIONS REACHED LIMIT.\n",
      "\n",
      "Increase the number of iterations (max_iter) or scale the data as shown in:\n",
      "    https://scikit-learn.org/stable/modules/preprocessing.html\n",
      "Please also refer to the documentation for alternative solver options:\n",
      "    https://scikit-learn.org/stable/modules/linear_model.html#logistic-regression\n",
      "  n_iter_i = _check_optimize_result(\n",
      "C:\\Users\\79219\\anaconda3\\lib\\site-packages\\sklearn\\linear_model\\_logistic.py:814: ConvergenceWarning: lbfgs failed to converge (status=1):\n",
      "STOP: TOTAL NO. of ITERATIONS REACHED LIMIT.\n",
      "\n",
      "Increase the number of iterations (max_iter) or scale the data as shown in:\n",
      "    https://scikit-learn.org/stable/modules/preprocessing.html\n",
      "Please also refer to the documentation for alternative solver options:\n",
      "    https://scikit-learn.org/stable/modules/linear_model.html#logistic-regression\n",
      "  n_iter_i = _check_optimize_result(\n",
      "C:\\Users\\79219\\anaconda3\\lib\\site-packages\\sklearn\\linear_model\\_logistic.py:814: ConvergenceWarning: lbfgs failed to converge (status=1):\n",
      "STOP: TOTAL NO. of ITERATIONS REACHED LIMIT.\n",
      "\n",
      "Increase the number of iterations (max_iter) or scale the data as shown in:\n",
      "    https://scikit-learn.org/stable/modules/preprocessing.html\n",
      "Please also refer to the documentation for alternative solver options:\n",
      "    https://scikit-learn.org/stable/modules/linear_model.html#logistic-regression\n",
      "  n_iter_i = _check_optimize_result(\n",
      "C:\\Users\\79219\\anaconda3\\lib\\site-packages\\sklearn\\linear_model\\_logistic.py:814: ConvergenceWarning: lbfgs failed to converge (status=1):\n",
      "STOP: TOTAL NO. of ITERATIONS REACHED LIMIT.\n",
      "\n",
      "Increase the number of iterations (max_iter) or scale the data as shown in:\n",
      "    https://scikit-learn.org/stable/modules/preprocessing.html\n",
      "Please also refer to the documentation for alternative solver options:\n",
      "    https://scikit-learn.org/stable/modules/linear_model.html#logistic-regression\n",
      "  n_iter_i = _check_optimize_result(\n"
     ]
    },
    {
     "name": "stdout",
     "output_type": "stream",
     "text": [
      "[0.88739322 0.92490937 0.96815122 0.96426722 0.94355256]\n"
     ]
    }
   ],
   "source": [
    "gesture_labels = np.concatenate([labels_train for i in range(len(window_data_true))])\n",
    "gesture_data = window_data_array_true\n",
    "\n",
    "pipe = Pipeline([('scaler', StandardScaler()), ('LR', LogisticRegression())])\n",
    "\n",
    "cv_scores = cross_val_score(estimator=pipe, X=gesture_data, y=gesture_labels)\n",
    "print(cv_scores)"
   ]
  },
  {
   "cell_type": "code",
   "execution_count": 28,
   "id": "ee1d9c09",
   "metadata": {},
   "outputs": [
    {
     "name": "stderr",
     "output_type": "stream",
     "text": [
      "C:\\Users\\79219\\anaconda3\\lib\\site-packages\\sklearn\\linear_model\\_logistic.py:814: ConvergenceWarning: lbfgs failed to converge (status=1):\n",
      "STOP: TOTAL NO. of ITERATIONS REACHED LIMIT.\n",
      "\n",
      "Increase the number of iterations (max_iter) or scale the data as shown in:\n",
      "    https://scikit-learn.org/stable/modules/preprocessing.html\n",
      "Please also refer to the documentation for alternative solver options:\n",
      "    https://scikit-learn.org/stable/modules/linear_model.html#logistic-regression\n",
      "  n_iter_i = _check_optimize_result(\n"
     ]
    },
    {
     "data": {
      "text/plain": [
       "Pipeline(steps=[('scaler', StandardScaler()), ('LR', LogisticRegression())])"
      ]
     },
     "execution_count": 28,
     "metadata": {},
     "output_type": "execute_result"
    }
   ],
   "source": [
    "LR_gesture_clf = Pipeline([('scaler', StandardScaler()), ('LR', LogisticRegression())])\n",
    "LR_gesture_clf.fit(gesture_data, gesture_labels)"
   ]
  },
  {
   "cell_type": "code",
   "execution_count": 32,
   "id": "108714db",
   "metadata": {},
   "outputs": [],
   "source": [
    "with open('LR_gesture_clf.pkl', 'wb') as f:\n",
    "    pickle.dump(LR_gesture_clf, f)"
   ]
  },
  {
   "cell_type": "markdown",
   "id": "5ea071a6",
   "metadata": {},
   "source": [
    "### 3. Testing Window LDA + Gesture LDA"
   ]
  },
  {
   "cell_type": "code",
   "execution_count": 33,
   "id": "16db6053",
   "metadata": {},
   "outputs": [
    {
     "name": "stderr",
     "output_type": "stream",
     "text": [
      "100%|████████████████████████████████████████████████████████████████████████████████| 101/101 [00:02<00:00, 46.04it/s]\n"
     ]
    }
   ],
   "source": [
    "accuracy_list = []\n",
    "\n",
    "window_size = 20\n",
    "steps = np.arange(0,101,1)\n",
    "\n",
    "for strt in tqdm(steps):\n",
    "    data_3d_slice = data_3d_test[::,::,::]\n",
    "    data_2d = data_3d_slice[::,strt:strt+window_size,::].reshape(data_3d_slice.shape[0],\n",
    "                                                                 window_size*data_3d_slice.shape[2])\n",
    "    \n",
    "    pred_labels = np.ones_like(labels_test)*-1\n",
    "    pred_window_mask = LR_window_clf.predict(data_2d)\n",
    "    if np.sum(pred_window_mask) > 0:\n",
    "        data_2d_masked = data_2d[pred_window_mask==1]\n",
    "        pred_labels_masked = LR_gesture_clf.predict(data_2d_masked)\n",
    "        pred_labels[pred_window_mask==1] = pred_labels_masked\n",
    "    \n",
    "    acc = accuracy_score(labels_test, pred_labels)\n",
    "    accuracy_list.append(acc)"
   ]
  },
  {
   "cell_type": "code",
   "execution_count": 35,
   "id": "e08ad986",
   "metadata": {},
   "outputs": [
    {
     "data": {
      "image/png": "[encoded data removed]",
      "text/plain": [
       "<Figure size 600x300 with 1 Axes>"
      ]
     },
     "metadata": {},
     "output_type": "display_data"
    }
   ],
   "source": [
    "plt.figure(figsize=(6,3))\n",
    "plt.title(f'LR window={window_size}')\n",
    "plt.plot(steps*2 + window_size//2, accuracy_list, 'r')\n",
    "\n",
    "plt.grid(True)\n",
    "plt.ylim(0,1)\n",
    "plt.xlim(0,110)\n",
    "plt.show()"
   ]
  },
  {
   "cell_type": "markdown",
   "id": "5a3137d6",
   "metadata": {},
   "source": [
    "### Shifting window accuracy check"
   ]
  },
  {
   "cell_type": "code",
   "execution_count": null,
   "id": "00008ad8",
   "metadata": {},
   "outputs": [],
   "source": [
    "# from sklearn.utils import shuffle\n",
    "# labels = shuffle(labels, random_state=0)"
   ]
  },
  {
   "cell_type": "code",
   "execution_count": null,
   "id": "660353c9",
   "metadata": {},
   "outputs": [],
   "source": [
    "lda_scores_mean = []\n",
    "lda_scores_std = []\n",
    "steps = np.arange(0,41,5)\n",
    "window_size = 20\n",
    "for strt in tqdm(steps):\n",
    "    data_3d_slice = data_3d[::,::2,::]\n",
    "    data_2d = data_3d_slice[::,strt:strt+window_size,::].reshape(data_3d_slice.shape[0],window_size*data_3d_slice.shape[2])\n",
    "    \n",
    "    scaler = StandardScaler()\n",
    "    data_2d = scaler.fit_transform(data_2d.T).T\n",
    "    \n",
    "    cv_scores = cross_val_score(estimator=LDA, X=data_2d, y=labels)\n",
    "    lda_scores_mean.append(np.mean(cv_scores))\n",
    "    lda_scores_std.append(np.std(cv_scores))    "
   ]
  },
  {
   "cell_type": "code",
   "execution_count": null,
   "id": "65b033e6",
   "metadata": {},
   "outputs": [],
   "source": [
    "data_3d_slice.shape"
   ]
  },
  {
   "cell_type": "code",
   "execution_count": null,
   "id": "e09da4ce",
   "metadata": {},
   "outputs": [],
   "source": [
    "1/len(np.unique(labels))"
   ]
  },
  {
   "cell_type": "code",
   "execution_count": null,
   "id": "9a36b920",
   "metadata": {},
   "outputs": [],
   "source": [
    "plt.figure(figsize=(6,3))\n",
    "plt.title(f'LDA window={window_size}')\n",
    "plt.plot(steps*2 + window_size//2, np.array(lda_scores_mean) + 3*np.array(lda_scores_std), 'g', alpha=0.3)\n",
    "plt.plot(steps*2 + window_size//2, lda_scores_mean, 'r')\n",
    "plt.plot(steps*2 + window_size//2, np.array(lda_scores_mean) - 3*np.array(lda_scores_std), 'g', alpha=0.3)\n",
    "\n",
    "plt.grid(True)\n",
    "plt.ylim(0,1)\n",
    "plt.xlim(0,110)\n",
    "plt.show()"
   ]
  },
  {
   "cell_type": "markdown",
   "id": "2e13862d",
   "metadata": {},
   "source": [
    "### Consequitive model"
   ]
  },
  {
   "cell_type": "code",
   "execution_count": null,
   "id": "ccc30cc6",
   "metadata": {},
   "outputs": [],
   "source": [
    "window_size = 20\n",
    "\n",
    "data_3d_resh = np.concatenate([data_3d[::,20:40,::],\n",
    "                               ])\n",
    "\n",
    "print(data_3d_resh.shape)\n",
    "\n",
    "data_2d_resh = data_3d_resh.reshape(data_3d_resh.shape[0],\n",
    "                                    data_3d_resh.shape[1]*data_3d_resh.shape[2])\n",
    "print(data_2d_resh.shape)"
   ]
  },
  {
   "cell_type": "code",
   "execution_count": null,
   "id": "2a6339e8",
   "metadata": {},
   "outputs": [],
   "source": [
    "scaler = StandardScaler()\n",
    "data_2d_resh = scaler.fit_transform(data_2d_resh.T).T"
   ]
  },
  {
   "cell_type": "code",
   "execution_count": null,
   "id": "93502139",
   "metadata": {},
   "outputs": [],
   "source": [
    "cv_scores = cross_val_score(estimator=LDA,\n",
    "                            X=data_2d_resh,\n",
    "                            y=np.concatenate([labels]*1),\n",
    "                            )\n",
    "print(cv_scores)"
   ]
  },
  {
   "cell_type": "markdown",
   "id": "7e8dd5b1",
   "metadata": {},
   "source": [
    "### Sequential prediction"
   ]
  },
  {
   "cell_type": "code",
   "execution_count": null,
   "id": "f07249ea",
   "metadata": {},
   "outputs": [],
   "source": [
    "from sklearn.model_selection import train_test_split\n",
    "from sklearn.metrics import accuracy_score\n",
    "\n",
    "X_train, X_test, y_train, y_test = train_test_split(data_3d, labels, test_size=0.2, random_state=42)\n",
    "print(X_train.shape)"
   ]
  },
  {
   "cell_type": "code",
   "execution_count": null,
   "id": "0f8a36e3",
   "metadata": {},
   "outputs": [],
   "source": [
    "window_size = 20\n",
    "\n",
    "X1 = X_train[::,0:window_size,::].reshape(X_train.shape[0],window_size*X_train.shape[2])\n",
    "X2 = X_train[::,20:20+window_size,::].reshape(X_train.shape[0],window_size*X_train.shape[2])\n",
    "X3 = X_train[::,40:40+window_size,::].reshape(X_train.shape[0],window_size*X_train.shape[2])\n",
    "X4 = X_train[::,60:60+window_size,::].reshape(X_train.shape[0],window_size*X_train.shape[2])\n",
    "X5 = X_train[::,80:80+window_size,::].reshape(X_train.shape[0],window_size*X_train.shape[2])\n",
    "\n",
    "print(X_train1.shape)"
   ]
  },
  {
   "cell_type": "code",
   "execution_count": null,
   "id": "edcf56be",
   "metadata": {},
   "outputs": [],
   "source": [
    "# from sklearn.discriminant_analysis import LinearDiscriminantAnalysis as lda_model\n",
    "from sklearn.ensemble import RandomForestClassifier as lda_model\n",
    "LDA1, LDA2, LDA3, LDA4, LDA5 = lda_model(), lda_model(), lda_model(), lda_model(), lda_model()\n",
    "LDA1.fit(X1, y_train)\n",
    "LDA2.fit(X2, y_train)\n",
    "LDA3.fit(X3, y_train)\n",
    "LDA4.fit(X4, y_train)\n",
    "LDA5.fit(X5, y_train)"
   ]
  },
  {
   "cell_type": "code",
   "execution_count": null,
   "id": "2141fa59",
   "metadata": {},
   "outputs": [],
   "source": [
    "p1, p2, p3, p4, p5 = [], [], [], [], []\n",
    "for X_slice in [X1, X2, X3, X4, X5]:\n",
    "    for model, p_list in zip([LDA1,LDA2,LDA3,LDA4,LDA5], [p1,p2,p3,p4,p5]):\n",
    "        p_list.append(model.predict_proba(X_slice))"
   ]
  },
  {
   "cell_type": "code",
   "execution_count": null,
   "id": "6dbfaf62",
   "metadata": {},
   "outputs": [],
   "source": [
    "print(accuracy_score(y_train, np.argmax((p1[0] + p2[0] + p3[0] + p4[0] + p5[0])/5,  axis=1)))\n",
    "print(accuracy_score(y_train, np.argmax((p1[1] + p2[1] + p3[1] + p4[1] + p5[1])/5,  axis=1)))\n",
    "print(accuracy_score(y_train, np.argmax((p1[2] + p2[2] + p3[2] + p4[2] + p5[2])/5,  axis=1)))\n",
    "print(accuracy_score(y_train, np.argmax((p1[3] + p2[3] + p3[3] + p4[3] + p5[3])/5,  axis=1)))\n",
    "print(accuracy_score(y_train, np.argmax((p1[4] + p2[4] + p3[4] + p4[4] + p5[4])/5,  axis=1)))"
   ]
  },
  {
   "cell_type": "code",
   "execution_count": null,
   "id": "50bd4eac",
   "metadata": {},
   "outputs": [],
   "source": [
    "aaa = (p1[0] + p2[0] + p3[0] + p4[0] + p5[0])/5\n",
    "bbb = (p1[4] + p2[4] + p3[4] + p4[4] + p5[4])/5\n",
    "\n",
    "plt.figure(figsize=(6,2))\n",
    "plt.plot(aaa[50], 'r')\n",
    "plt.plot(bbb[50], 'g')\n",
    "plt.show()"
   ]
  },
  {
   "cell_type": "code",
   "execution_count": null,
   "id": "43aa4578",
   "metadata": {},
   "outputs": [],
   "source": [
    "cnt = 0\n",
    "for i in range(aaa.shape[0]):\n",
    "    if np.max(aaa[i]) > np.max(bbb[i]):\n",
    "        cnt += 1\n",
    "print(cnt)"
   ]
  },
  {
   "cell_type": "code",
   "execution_count": null,
   "id": "3c9d145b",
   "metadata": {},
   "outputs": [],
   "source": [
    "print(accuracy_score(y_train, np.argmax(np.array(p5)[4], axis=1)))\n",
    "print(accuracy_score(y_train, np.argmax(np.mean(np.array(p5),axis=0), axis=1)))"
   ]
  },
  {
   "cell_type": "code",
   "execution_count": null,
   "id": "478c1fd5",
   "metadata": {},
   "outputs": [],
   "source": [
    "p1m, p2m, p3m, p4m, p5m = np.mean(p1,axis=0),np.mean(p2,axis=0),np.mean(p3,axis=0),np.mean(p4,axis=0), np.mean(p5,axis=0)\n",
    "ppm = (p1m + p2m + p3m + p4m + p5m)/5\n",
    "print(accuracy_score(y_train, np.argmax(ppm,  axis=1)))"
   ]
  },
  {
   "cell_type": "code",
   "execution_count": null,
   "id": "932953bd",
   "metadata": {},
   "outputs": [],
   "source": [
    "final_features = np.concatenate(p1+p2+p3+p4+p5, axis=1)\n",
    "print(final_features.shape)\n",
    "\n",
    "LDA_final = lda_model()\n",
    "LDA_final.fit(final_features, y_train)"
   ]
  },
  {
   "cell_type": "markdown",
   "id": "ae548e07",
   "metadata": {},
   "source": [
    "### prediction"
   ]
  },
  {
   "cell_type": "code",
   "execution_count": null,
   "id": "3d1109ec",
   "metadata": {},
   "outputs": [],
   "source": [
    "window_size = 20\n",
    "\n",
    "X1t = X_test[::,0:window_size,::].reshape(X_test.shape[0],window_size*X_train.shape[2])\n",
    "X2t = X_test[::,20:20+window_size,::].reshape(X_test.shape[0],window_size*X_train.shape[2])\n",
    "X3t = X_test[::,20:20+window_size,::].reshape(X_test.shape[0],window_size*X_train.shape[2])\n",
    "X4t = X_test[::,20:20+window_size,::].reshape(X_test.shape[0],window_size*X_train.shape[2])\n",
    "X5t = X_test[::,20:20+window_size,::].reshape(X_test.shape[0],window_size*X_train.shape[2])\n",
    "\n",
    "print(X1t.shape)\n",
    "\n",
    "p1t, p2t, p3t, p4t, p5t = [], [], [], [], []\n",
    "for X_slice in [X1t, X2t, X3t, X4t, X5t]:\n",
    "    for model, p_list in zip([LDA1,LDA2,LDA3,LDA4,LDA5], [p1t,p2t,p3t,p4t,p5t]):\n",
    "        p_list.append(model.predict_proba(X_slice))\n",
    "        "
   ]
  },
  {
   "cell_type": "code",
   "execution_count": null,
   "id": "a7faf43d",
   "metadata": {},
   "outputs": [],
   "source": [
    "p1mt, p2mt, p3mt, p4mt, p5mt = np.mean(p1t,axis=0),np.mean(p2t,axis=0),np.mean(p3t,axis=0),np.mean(p4t,axis=0), np.mean(p5t,axis=0)\n",
    "ppmt = (p1mt + p2mt + p3mt + p4mt + p5mt)/5\n",
    "print(accuracy_score(y_test, np.argmax((p1t[0] + p2t[0] + p3t[0] + p4t[0] + p5t[0])/5,  axis=1)))\n",
    "print(accuracy_score(y_test, np.argmax((p1t[1] + p2t[1] + p3t[1] + p4t[1] + p5t[1])/5,  axis=1)))\n",
    "print(accuracy_score(y_test, np.argmax((p1t[2] + p2t[2] + p3t[2] + p4t[2] + p5t[2])/5,  axis=1)))\n",
    "print(accuracy_score(y_test, np.argmax((p1t[3] + p2t[3] + p3t[3] + p4t[3] + p5t[3])/5,  axis=1)))\n",
    "print(accuracy_score(y_test, np.argmax((p1t[4] + p2t[4] + p3t[4] + p4t[4] + p5t[4])/5,  axis=1)))"
   ]
  },
  {
   "cell_type": "code",
   "execution_count": null,
   "id": "52f5c5a3",
   "metadata": {},
   "outputs": [],
   "source": [
    "p1, p2, p3, p4, p5 = [], [], [], [], []\n",
    "for X_slice in [X1, X2, X3, X4, X5]:\n",
    "    for model, p_list in zip([LDA1,LDA2,LDA3,LDA4,LDA5], [p1,p2,p3,p4,p5]):\n",
    "        p_list.append(model.predict_log_proba(X_slice))"
   ]
  },
  {
   "cell_type": "code",
   "execution_count": null,
   "id": "465e20bb",
   "metadata": {},
   "outputs": [],
   "source": [
    "NNN = 11\n",
    "print(y_test[NNN])\n",
    "print(np.argmax(LDA.predict_proba(X_test[NNN].reshape(1, -1))))\n",
    "\n",
    "plt.figure(figsize=(6,2))\n",
    "plt.plot(LDA.predict_proba(X_test[NNN].reshape(1, -1))[0])\n",
    "plt.yscale('log')\n",
    "plt.ylim(1e-32, 10)\n",
    "plt.show()"
   ]
  },
  {
   "cell_type": "code",
   "execution_count": null,
   "id": "6d84c093",
   "metadata": {},
   "outputs": [],
   "source": []
  },
  {
   "cell_type": "code",
   "execution_count": null,
   "id": "6a8666f3",
   "metadata": {},
   "outputs": [],
   "source": [
    "def generate_resp(x):\n",
    "    p1 = LDA.predict_proba(x.reshape(1, -1))\n",
    "    p2 = LDA.predict_proba(x.reshape(1, -1))    \n",
    "    p3 = LDA.predict_proba(x.reshape(1, -1))    \n",
    "    p4 = LDA.predict_proba(x.reshape(1, -1))    \n",
    "    p5 = LDA.predict_proba(x.reshape(1, -1))    \n",
    "    p_res = np.concatenate([p1,p2,p3,p4,p5])\n",
    "#     print(p_res.shape)\n",
    "    return np.mean(p_res,axis=0)"
   ]
  },
  {
   "cell_type": "code",
   "execution_count": null,
   "id": "c43e3e86",
   "metadata": {},
   "outputs": [],
   "source": []
  },
  {
   "cell_type": "code",
   "execution_count": null,
   "id": "0e67f1d4",
   "metadata": {},
   "outputs": [],
   "source": [
    "%timeit generate_resp(data_2d_resh[10].reshape(-1,1))"
   ]
  }
 ],
 "metadata": {
  "kernelspec": {
   "display_name": "Python 3",
   "language": "python",
   "name": "python3"
  },
  "language_info": {
   "codemirror_mode": {
    "name": "ipython",
    "version": 3
   },
   "file_extension": ".py",
   "mimetype": "text/x-python",
   "name": "python",
   "nbconvert_exporter": "python",
   "pygments_lexer": "ipython3",
   "version": "3.8.5"
  }
 },
 "nbformat": 4,
 "nbformat_minor": 5
}
