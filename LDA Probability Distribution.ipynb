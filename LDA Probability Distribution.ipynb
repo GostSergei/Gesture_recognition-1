{
 "cells": [
  {
   "cell_type": "code",
   "execution_count": 95,
   "id": "47a8a927",
   "metadata": {},
   "outputs": [],
   "source": [
    "import numpy as np\n",
    "import matplotlib.pyplot as plt\n",
    "from tqdm import tqdm\n",
    "\n",
    "from scipy.io import loadmat, savemat\n",
    "from scipy import signal"
   ]
  },
  {
   "cell_type": "markdown",
   "id": "2ade5ca3",
   "metadata": {},
   "source": [
    "### loading data"
   ]
  },
  {
   "cell_type": "code",
   "execution_count": 96,
   "id": "daace3cc",
   "metadata": {},
   "outputs": [],
   "source": [
    "mt_file_clean = loadmat('data/ALIGNED_CLEANED_gestures_4d_full.mat')"
   ]
  },
  {
   "cell_type": "code",
   "execution_count": 97,
   "id": "8ded8239",
   "metadata": {},
   "outputs": [
    {
     "data": {
      "text/plain": [
       "dict_keys(['__header__', '__version__', '__globals__', 'labels', 'data', 'starts', 'stops'])"
      ]
     },
     "execution_count": 97,
     "metadata": {},
     "output_type": "execute_result"
    }
   ],
   "source": [
    "mt_file_clean.keys()"
   ]
  },
  {
   "cell_type": "code",
   "execution_count": 98,
   "id": "6b737a71",
   "metadata": {},
   "outputs": [
    {
     "data": {
      "text/plain": [
       "array([ 0,  1,  2, ...,  6, 27, 42], dtype=int64)"
      ]
     },
     "execution_count": 98,
     "metadata": {},
     "output_type": "execute_result"
    }
   ],
   "source": [
    "labels = mt_file_clean['labels'][0]\n",
    "labels"
   ]
  },
  {
   "cell_type": "code",
   "execution_count": 107,
   "id": "6c32d7cc",
   "metadata": {},
   "outputs": [
    {
     "data": {
      "text/plain": [
       "(7153, 120, 67, 3)"
      ]
     },
     "execution_count": 107,
     "metadata": {},
     "output_type": "execute_result"
    }
   ],
   "source": [
    "data_full = mt_file_clean['data']\n",
    "data_full.shape"
   ]
  },
  {
   "cell_type": "code",
   "execution_count": 108,
   "id": "8807422f",
   "metadata": {},
   "outputs": [
    {
     "data": {
      "text/plain": [
       "(7153, 120, 50, 3)"
      ]
     },
     "execution_count": 108,
     "metadata": {},
     "output_type": "execute_result"
    }
   ],
   "source": [
    "data_4d = data_full[::,::,10:60,::]\n",
    "data_4d.shape"
   ]
  },
  {
   "cell_type": "code",
   "execution_count": 109,
   "id": "3d8070b2",
   "metadata": {},
   "outputs": [
    {
     "data": {
      "text/plain": [
       "(array([20, 20, 20, ..., 20, 20, 20], dtype=int64),\n",
       " array([72, 61, 69, ..., 61, 67, 70], dtype=int64))"
      ]
     },
     "execution_count": 109,
     "metadata": {},
     "output_type": "execute_result"
    }
   ],
   "source": [
    "starts, stops = mt_file_clean['starts'][0], mt_file_clean['stops'][0]\n",
    "(starts, stops)"
   ]
  },
  {
   "cell_type": "code",
   "execution_count": 110,
   "id": "412dbe48",
   "metadata": {},
   "outputs": [
    {
     "data": {
      "text/plain": [
       "(7153,)"
      ]
     },
     "execution_count": 110,
     "metadata": {},
     "output_type": "execute_result"
    }
   ],
   "source": [
    "starts.shape"
   ]
  },
  {
   "cell_type": "markdown",
   "id": "4b985d8d",
   "metadata": {},
   "source": [
    "### Dataset preparation"
   ]
  },
  {
   "cell_type": "code",
   "execution_count": 111,
   "id": "c9c919f4",
   "metadata": {},
   "outputs": [
    {
     "data": {
      "text/plain": [
       "(7153, 120, 150)"
      ]
     },
     "execution_count": 111,
     "metadata": {},
     "output_type": "execute_result"
    }
   ],
   "source": [
    "data_3d = data_4d.reshape(data_4d.shape[0], data_4d.shape[1], data_4d.shape[2]*data_4d.shape[3])\n",
    "data_3d.shape"
   ]
  },
  {
   "cell_type": "markdown",
   "id": "d91e8ee1",
   "metadata": {},
   "source": [
    "### Classifiers"
   ]
  },
  {
   "cell_type": "code",
   "execution_count": 112,
   "id": "d6c23b5a",
   "metadata": {},
   "outputs": [],
   "source": [
    "from sklearn.preprocessing import StandardScaler"
   ]
  },
  {
   "cell_type": "code",
   "execution_count": 113,
   "id": "db54708d",
   "metadata": {},
   "outputs": [],
   "source": [
    "from sklearn.discriminant_analysis import LinearDiscriminantAnalysis\n",
    "from sklearn.neighbors import KNeighborsClassifier\n",
    "from sklearn.ensemble import RandomForestClassifier\n",
    "\n",
    "LDA = LinearDiscriminantAnalysis()\n",
    "KNN = KNeighborsClassifier(n_neighbors=5)\n",
    "RF = RandomForestClassifier(max_depth=10, n_estimators=50)"
   ]
  },
  {
   "cell_type": "code",
   "execution_count": 114,
   "id": "1a8047ea",
   "metadata": {},
   "outputs": [],
   "source": [
    "from sklearn.model_selection import cross_val_score"
   ]
  },
  {
   "cell_type": "code",
   "execution_count": 115,
   "id": "3c89d5e4",
   "metadata": {},
   "outputs": [],
   "source": [
    "from tqdm import tqdm"
   ]
  },
  {
   "cell_type": "code",
   "execution_count": 116,
   "id": "8a150630",
   "metadata": {},
   "outputs": [],
   "source": [
    "# from sklearn.utils import shuffle\n",
    "# labels = shuffle(labels, random_state=0)"
   ]
  },
  {
   "cell_type": "code",
   "execution_count": 130,
   "id": "0e214423",
   "metadata": {},
   "outputs": [
    {
     "name": "stderr",
     "output_type": "stream",
     "text": [
      "100%|████████████████████████████████████████████████████████████████████████████████████| 9/9 [13:45<00:00, 91.76s/it]\n"
     ]
    }
   ],
   "source": [
    "lda_scores_mean = []\n",
    "lda_scores_std = []\n",
    "steps = np.arange(0,41,5)\n",
    "window_size = 20\n",
    "for strt in tqdm(steps):\n",
    "    data_3d_slice = data_3d[::,::2,::]\n",
    "    data_2d = data_3d_slice[::,strt:strt+window_size,::].reshape(data_3d_slice.shape[0],window_size*data_3d_slice.shape[2])\n",
    "    \n",
    "    scaler = StandardScaler()\n",
    "    data_2d = scaler.fit_transform(data_2d.T).T\n",
    "    \n",
    "    cv_scores = cross_val_score(estimator=LDA, X=data_2d, y=labels)\n",
    "    lda_scores_mean.append(np.mean(cv_scores))\n",
    "    lda_scores_std.append(np.std(cv_scores))    "
   ]
  },
  {
   "cell_type": "code",
   "execution_count": 131,
   "id": "0e8fa1e9",
   "metadata": {},
   "outputs": [
    {
     "data": {
      "text/plain": [
       "(7153, 60, 150)"
      ]
     },
     "execution_count": 131,
     "metadata": {},
     "output_type": "execute_result"
    }
   ],
   "source": [
    "data_3d_slice.shape"
   ]
  },
  {
   "cell_type": "code",
   "execution_count": 132,
   "id": "b0b2cc0e",
   "metadata": {},
   "outputs": [
    {
     "data": {
      "text/plain": [
       "0.018867924528301886"
      ]
     },
     "execution_count": 132,
     "metadata": {},
     "output_type": "execute_result"
    }
   ],
   "source": [
    "1/len(np.unique(labels))"
   ]
  },
  {
   "cell_type": "code",
   "execution_count": 133,
   "id": "45dfc25c",
   "metadata": {},
   "outputs": [
    {
     "data": {
      "image/png": "[encoded data removed]",
      "text/plain": [
       "<Figure size 600x300 with 1 Axes>"
      ]
     },
     "metadata": {},
     "output_type": "display_data"
    }
   ],
   "source": [
    "plt.figure(figsize=(6,3))\n",
    "plt.title(f'LDA window={window_size}')\n",
    "plt.plot(steps*2 + window_size//2, np.array(lda_scores_mean) + 3*np.array(lda_scores_std), 'g', alpha=0.3)\n",
    "plt.plot(steps*2 + window_size//2, lda_scores_mean, 'r')\n",
    "plt.plot(steps*2 + window_size//2, np.array(lda_scores_mean) - 3*np.array(lda_scores_std), 'g', alpha=0.3)\n",
    "\n",
    "plt.grid(True)\n",
    "plt.ylim(0,1)\n",
    "plt.xlim(0,110)\n",
    "plt.show()"
   ]
  },
  {
   "cell_type": "code",
   "execution_count": null,
   "id": "5978d401",
   "metadata": {},
   "outputs": [],
   "source": []
  }
 ],
 "metadata": {
  "kernelspec": {
   "display_name": "Python 3",
   "language": "python",
   "name": "python3"
  },
  "language_info": {
   "codemirror_mode": {
    "name": "ipython",
    "version": 3
   },
   "file_extension": ".py",
   "mimetype": "text/x-python",
   "name": "python",
   "nbconvert_exporter": "python",
   "pygments_lexer": "ipython3",
   "version": "3.8.5"
  }
 },
 "nbformat": 4,
 "nbformat_minor": 5
}
