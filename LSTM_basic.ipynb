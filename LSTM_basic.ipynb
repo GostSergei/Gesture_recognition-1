{
 "cells": [
  {
   "cell_type": "code",
   "execution_count": 1,
   "id": "b8dd3adf",
   "metadata": {},
   "outputs": [],
   "source": [
    "import numpy as np\n",
    "import matplotlib.pyplot as plt\n",
    "from tqdm import tqdm\n",
    "\n",
    "from scipy.io import loadmat, savemat\n",
    "from scipy import signal\n",
    "from tqdm import tqdm\n",
    "import pickle"
   ]
  },
  {
   "cell_type": "code",
   "execution_count": 2,
   "id": "8e7a2187",
   "metadata": {},
   "outputs": [],
   "source": [
    "from sklearn.model_selection import train_test_split\n",
    "from sklearn.metrics import accuracy_score\n",
    "from sklearn.preprocessing import StandardScaler\n",
    "from sklearn.model_selection import cross_val_score\n",
    "from sklearn.utils import shuffle"
   ]
  },
  {
   "cell_type": "code",
   "execution_count": 3,
   "id": "2a9d88fe",
   "metadata": {},
   "outputs": [],
   "source": [
    "from sklearn.discriminant_analysis import LinearDiscriminantAnalysis\n",
    "from sklearn.neighbors import KNeighborsClassifier\n",
    "from sklearn.ensemble import RandomForestClassifier\n",
    "from sklearn.linear_model import LogisticRegression"
   ]
  },
  {
   "cell_type": "code",
   "execution_count": 4,
   "id": "d11cbe7e",
   "metadata": {},
   "outputs": [],
   "source": [
    "import torch\n",
    "from torch import nn"
   ]
  },
  {
   "cell_type": "code",
   "execution_count": null,
   "id": "ce536dc4",
   "metadata": {},
   "outputs": [],
   "source": []
  },
  {
   "cell_type": "code",
   "execution_count": 5,
   "id": "29fc6483",
   "metadata": {},
   "outputs": [],
   "source": [
    "# function to online \n",
    "def shift_scale_sample_4d(data, copy_data=True, do_flip=True):\n",
    "    P_SHOULDER_LEFT, P_SHOULDER_RIGHT = 11, 12\n",
    "    P_HIP_LEFT, P_HIP_RIGHT = 23, 24\n",
    "    K_HEIGHT_TO_WIDTH = 1\n",
    "    \n",
    "    if copy_data:\n",
    "        data = data.copy()\n",
    "    \n",
    "    # 0) flip Y\n",
    "    if do_flip:\n",
    "        data[:, :, :, 1] *= -1\n",
    "\n",
    "    # 1) shifting\n",
    "    origin_shoulders = 0.5*(data[:, :, P_SHOULDER_LEFT:P_SHOULDER_LEFT+1, :2] + data[:, :, P_SHOULDER_RIGHT:P_SHOULDER_RIGHT+1, :2] )\n",
    "    # origin_hips = 0.5*(data[:, :, P_HIP_LEFT:P_HIP_LEFT+1, :2] + data[:, :, P_HIP_RIGHT:P_HIP_RIGHT+1, :2] )\n",
    "    data = data - origin_shoulders\n",
    "\n",
    "    # 2) scaling\n",
    "    kx = 1 / data[:, :, P_SHOULDER_LEFT:P_SHOULDER_LEFT+1, 0]\n",
    "    origin_hips_new = 0.5*(data[:, :, P_HIP_LEFT:P_HIP_LEFT+1, :2] + data[:, :, P_HIP_RIGHT:P_HIP_RIGHT+1, :2] )\n",
    "    # origin_shoulders_new = 0.5*(data[:, :, P_SHOULDER_LEFT:P_SHOULDER_LEFT+1, :2] + data[:, :, P_SHOULDER_RIGHT:P_SHOULDER_RIGHT+1, :2] )\n",
    "\n",
    "    ky = K_HEIGHT_TO_WIDTH / origin_hips_new[:, :, :, 1]\n",
    "    data[:, :, :, 0] *=  kx\n",
    "    data[:, :, :, 1] *=  -ky\n",
    "    \n",
    "    return data"
   ]
  },
  {
   "cell_type": "code",
   "execution_count": 6,
   "id": "b6d1853c",
   "metadata": {},
   "outputs": [],
   "source": [
    "def align_tensor_by_se(tensor_data, se_list, s_e_new=[5, 65], filling='fl'):\n",
    "    \n",
    "    good_fillings = ['fl', 'first/last', 'roll']\n",
    "    assert filling in good_fillings, f\"Error! filling={filling} should be in {good_fillings}!\"\n",
    "    \n",
    "    f_tensor = tensor_data.copy()\n",
    "    samples, duration, signals = f_tensor.shape\n",
    "    \n",
    "    s_e_new = np.asarray(s_e_new).reshape(-1, 2)\n",
    "    \n",
    "    if s_e_new.shape[0] == 1:\n",
    "        s_e_new = np.repeat(s_e_new, samples, axis=0)\n",
    "    elif s_e_new.shape[0] == samples:\n",
    "        pass\n",
    "    else:\n",
    "        assert 0, f\"Error, s_e_new.shape={s_e_new.shape} in np.array from\"\\\n",
    "                  f\" should have 1 or {samples} size of the first dimension\"\\\n",
    "                  f\"for given 'tensor_data'[{tensor_data.shape}]\"\n",
    "    \n",
    "    print(s_e_new.shape)\n",
    "    se_array = np.asarray(se_list)\n",
    "    t = np.arange(0, duration)\n",
    "    t_tensor = np.repeat(t.reshape(1, -1), samples, axis=0)\n",
    "    \n",
    "    \n",
    "    k_stretching =  (s_e_new [:,1:2] - s_e_new [:,0:1])/(se_array[:,1:2] - se_array[:,0:1])   \n",
    "    t_tensor_  = (t_tensor -  se_array[:, 0:1])*k_stretching + s_e_new[:,0:1]\n",
    "    \n",
    "    \n",
    "    # Skipping the null procedures\n",
    "    mask = (np.round(s_e_new,0) == np.round(se_array,0)).prod(axis=1).astype(bool)\n",
    "    # print(mask)\n",
    "    t_tensor_[mask] = t_tensor[mask]\n",
    "    print(f\"{mask.sum()} procedures (from {mask.size}) were skipped!\")\n",
    "    \n",
    "    t_tensor = t_tensor_\n",
    "    \n",
    "    interp_period = None\n",
    "    if filling in ['fl', 'first/last']:\n",
    "        interp_period = None\n",
    "    elif filling in ['roll']:\n",
    "        interp_period = duration\n",
    "    else:\n",
    "        print(f\"Warning! activity for 'filling'={filling} is not defined! Default: interp_period=None!!\")\n",
    "        \n",
    "    \n",
    "    \n",
    "    for k in range(signals):\n",
    "        for i in range(samples):\n",
    "            f = f_tensor[i, :, k]\n",
    "            t = t_tensor[i, :]\n",
    "            f_new = np.interp(np.arange(0, duration),t, f, period=interp_period)\n",
    "            f_tensor[i, :, k] = f_new\n",
    "            \n",
    "    return f_tensor"
   ]
  },
  {
   "cell_type": "code",
   "execution_count": 7,
   "id": "b0d3fc69",
   "metadata": {},
   "outputs": [
    {
     "name": "stdout",
     "output_type": "stream",
     "text": [
      "(1, 2)\n",
      "0 procedures (from 1) were skipped!\n"
     ]
    },
    {
     "data": {
      "image/png": "[encoded data removed]",
      "text/plain": [
       "<Figure size 432x288 with 1 Axes>"
      ]
     },
     "metadata": {
      "needs_background": "light"
     },
     "output_type": "display_data"
    }
   ],
   "source": [
    "sample = np.concatenate([np.random.randn(30)/10,np.sin(np.arange(100)/10), np.random.randn(30)/10])\n",
    "\n",
    "new_sample = align_tensor_by_se(sample.reshape(1,-1,1), [[30,130]], s_e_new=[20, 100], filling='fl')\n",
    "plt.plot(sample)\n",
    "plt.plot(new_sample[0,::,0])\n",
    "plt.show()"
   ]
  },
  {
   "cell_type": "markdown",
   "id": "b31feda5",
   "metadata": {},
   "source": [
    "### loading data"
   ]
  },
  {
   "cell_type": "code",
   "execution_count": 8,
   "id": "f0470f09",
   "metadata": {},
   "outputs": [],
   "source": [
    "mt_file_clean = loadmat('data/ALIGNED_SER_4d_full.mat')"
   ]
  },
  {
   "cell_type": "code",
   "execution_count": 9,
   "id": "9c392c1c",
   "metadata": {},
   "outputs": [
    {
     "data": {
      "text/plain": [
       "dict_keys(['__header__', '__version__', '__globals__', 'labels', 'data', 'starts', 'stops'])"
      ]
     },
     "execution_count": 9,
     "metadata": {},
     "output_type": "execute_result"
    }
   ],
   "source": [
    "mt_file_clean.keys()"
   ]
  },
  {
   "cell_type": "code",
   "execution_count": 10,
   "id": "144538fe",
   "metadata": {},
   "outputs": [
    {
     "data": {
      "text/plain": [
       "array([ 0,  1,  2, ..., 27, 42, 45], dtype=int64)"
      ]
     },
     "execution_count": 10,
     "metadata": {},
     "output_type": "execute_result"
    }
   ],
   "source": [
    "labels_full = mt_file_clean['labels'][0]\n",
    "labels_full"
   ]
  },
  {
   "cell_type": "code",
   "execution_count": 11,
   "id": "4a12d633",
   "metadata": {},
   "outputs": [
    {
     "data": {
      "text/plain": [
       "(7420, 120, 67, 3)"
      ]
     },
     "execution_count": 11,
     "metadata": {},
     "output_type": "execute_result"
    }
   ],
   "source": [
    "data_full = mt_file_clean['data']\n",
    "data_full.shape"
   ]
  },
  {
   "cell_type": "code",
   "execution_count": 12,
   "id": "304a9e55",
   "metadata": {},
   "outputs": [
    {
     "data": {
      "text/plain": [
       "(7420, 120, 67, 2)"
      ]
     },
     "execution_count": 12,
     "metadata": {},
     "output_type": "execute_result"
    }
   ],
   "source": [
    "data_4d = data_full[::,::,::,0:2]\n",
    "data_4d.shape"
   ]
  },
  {
   "cell_type": "code",
   "execution_count": 13,
   "id": "d3e85570",
   "metadata": {},
   "outputs": [
    {
     "data": {
      "text/plain": [
       "(7420, 120, 67, 2)"
      ]
     },
     "execution_count": 13,
     "metadata": {},
     "output_type": "execute_result"
    }
   ],
   "source": [
    "# scaling\n",
    "data_4d = shift_scale_sample_4d(data_4d, copy_data=True, do_flip=True)\n",
    "data_4d.shape"
   ]
  },
  {
   "cell_type": "code",
   "execution_count": 14,
   "id": "49beccb8",
   "metadata": {},
   "outputs": [
    {
     "data": {
      "text/plain": [
       "(array([20., 20., 20., ..., 20., 20., 20.]),\n",
       " array([76. , 63. , 76. , ..., 73. , 77.5, 59. ]))"
      ]
     },
     "execution_count": 14,
     "metadata": {},
     "output_type": "execute_result"
    }
   ],
   "source": [
    "starts, stops = mt_file_clean['starts'][0], mt_file_clean['stops'][0]\n",
    "(starts, stops)"
   ]
  },
  {
   "cell_type": "code",
   "execution_count": null,
   "id": "77a8e947",
   "metadata": {},
   "outputs": [],
   "source": []
  },
  {
   "cell_type": "code",
   "execution_count": null,
   "id": "776e55dd",
   "metadata": {},
   "outputs": [],
   "source": []
  },
  {
   "cell_type": "markdown",
   "id": "f99fc73f",
   "metadata": {},
   "source": [
    "### Dataset preparation"
   ]
  },
  {
   "cell_type": "code",
   "execution_count": 21,
   "id": "bfcb11aa",
   "metadata": {},
   "outputs": [
    {
     "data": {
      "text/plain": [
       "(7420, 120, 134)"
      ]
     },
     "execution_count": 21,
     "metadata": {},
     "output_type": "execute_result"
    }
   ],
   "source": [
    "data_3d_full = data_4d.reshape(data_4d.shape[0], data_4d.shape[1], data_4d.shape[2]*data_4d.shape[3])\n",
    "data_3d_full.shape"
   ]
  },
  {
   "cell_type": "code",
   "execution_count": 22,
   "id": "2cd7249b",
   "metadata": {},
   "outputs": [
    {
     "name": "stdout",
     "output_type": "stream",
     "text": [
      "(7420, 2)\n",
      "0 procedures (from 7420) were skipped!\n"
     ]
    }
   ],
   "source": [
    "se = np.stack([starts, stops], axis=1)\n",
    "data_3d_full = align_tensor_by_se(data_3d_full, se, s_e_new=[30, 90])"
   ]
  },
  {
   "cell_type": "code",
   "execution_count": 23,
   "id": "16ee78c3",
   "metadata": {},
   "outputs": [],
   "source": [
    "labels21 = labels_full[labels_full != 21]\n",
    "data_3d21 = data_3d_full[labels_full != 21]\n",
    "\n",
    "labels45 = labels21[labels21 != 45]\n",
    "data_3d45 = data_3d21[labels21 != 45]\n",
    "\n",
    "data_3d_full = data_3d45\n",
    "labels_full = labels45"
   ]
  },
  {
   "cell_type": "code",
   "execution_count": 24,
   "id": "477f382c",
   "metadata": {},
   "outputs": [
    {
     "data": {
      "text/plain": [
       "(6567, 120, 134)"
      ]
     },
     "execution_count": 24,
     "metadata": {},
     "output_type": "execute_result"
    }
   ],
   "source": [
    "data_3d_train, data_3d_test, labels_train, labels_test = train_test_split(data_3d_full,\n",
    "                                                                          labels_full,\n",
    "                                                                          test_size=0.05)\n",
    "\n",
    "data_3d_train.shape"
   ]
  },
  {
   "cell_type": "code",
   "execution_count": 25,
   "id": "55084262",
   "metadata": {},
   "outputs": [],
   "source": [
    "from torch.utils.data import Dataset, DataLoader\n",
    "\n",
    "class Dataset_LSTM_Single(Dataset):\n",
    "    def __init__(self, data, labels, window_size=30):\n",
    "\n",
    "        self.data = data\n",
    "        self.labels = labels\n",
    "        self.uniq_labels = len(np.unique(self.labels))\n",
    "        self.ws = window_size\n",
    "\n",
    "    def __len__(self):\n",
    "        return len(self.labels)\n",
    "\n",
    "    def __getitem__(self, idx):\n",
    "        gesture_seqence, label = self.data[idx], self.labels[idx]\n",
    "\n",
    "\n",
    "        # slicing\n",
    "        if self.ws < self.data.shape[1]: # window smaller than data length\n",
    "            start_idx = np.random.randint(low=0, high=gesture_seqence.shape[0]-self.ws)\n",
    "            gesture_seqence = gesture_seqence[start_idx: start_idx+self.ws]\n",
    "            if start_idx < 20 or start_idx > 90 - 20:\n",
    "                label = self.uniq_labels\n",
    "\n",
    "        gesture_seqence = torch.tensor(gesture_seqence, dtype=torch.float)\n",
    "        label_tensor = torch.tensor(label, dtype=torch.long)\n",
    "        \n",
    "        return gesture_seqence, label_tensor"
   ]
  },
  {
   "cell_type": "code",
   "execution_count": 26,
   "id": "208bcce8",
   "metadata": {},
   "outputs": [
    {
     "name": "stdout",
     "output_type": "stream",
     "text": [
      "torch.Size([64, 120, 134]) torch.Size([64])\n"
     ]
    }
   ],
   "source": [
    "DS_TRAIN = Dataset_LSTM_Single(data_3d_train, labels_train, window_size=30)\n",
    "DL_TRAIN = DataLoader(DS_TRAIN, batch_size=64, shuffle=True)\n",
    "\n",
    "DS_TEST_F = Dataset_LSTM_Single(data_3d_test, labels_test, window_size=120)\n",
    "DL_TEST_F = DataLoader(DS_TEST_F, batch_size=64, shuffle=True)\n",
    "\n",
    "DS_TEST_R = Dataset_LSTM_Single(data_3d_test, labels_test, window_size=30)\n",
    "DL_TEST_R = DataLoader(DS_TEST_R, batch_size=64, shuffle=True)\n",
    "\n",
    "DS_TEST_1 = Dataset_LSTM_Single(data_3d_test[::,0:30,::], [53]*len(labels_test), window_size=120)\n",
    "DL_TEST_1 = DataLoader(DS_TEST_1, batch_size=64, shuffle=False)\n",
    "\n",
    "DS_TEST_2 = Dataset_LSTM_Single(data_3d_test[::,30:60,::], labels_test, window_size=120)\n",
    "DL_TEST_2 = DataLoader(DS_TEST_2, batch_size=64, shuffle=False)\n",
    "\n",
    "DS_TEST_3 = Dataset_LSTM_Single(data_3d_test[::,60:90,::], labels_test, window_size=120)\n",
    "DL_TEST_3 = DataLoader(DS_TEST_3, batch_size=64, shuffle=False)\n",
    "\n",
    "DS_TEST_4 = Dataset_LSTM_Single(data_3d_test[::,90:120,::], [53]*len(labels_test), window_size=120)\n",
    "DL_TEST_4 = DataLoader(DS_TEST_4, batch_size=64, shuffle=False)\n",
    "\n",
    "for x, y in DL_TEST_F:\n",
    "    print(x.shape, y.shape)\n",
    "    break"
   ]
  },
  {
   "cell_type": "code",
   "execution_count": 27,
   "id": "5562544b",
   "metadata": {},
   "outputs": [],
   "source": [
    "device = 'cuda'"
   ]
  },
  {
   "cell_type": "markdown",
   "id": "39493f09",
   "metadata": {},
   "source": [
    "### LSTM"
   ]
  },
  {
   "cell_type": "code",
   "execution_count": 28,
   "id": "a4674f53",
   "metadata": {},
   "outputs": [],
   "source": [
    "from misc.LSTM_simple_classifier import LSTMTagger\n",
    "\n",
    "import torch"
   ]
  },
  {
   "cell_type": "code",
   "execution_count": 29,
   "id": "e1798b04",
   "metadata": {},
   "outputs": [
    {
     "name": "stdout",
     "output_type": "stream",
     "text": [
      "No batchnorm\n",
      "dropout both\n"
     ]
    },
    {
     "name": "stderr",
     "output_type": "stream",
     "text": [
      "C:\\Users\\kotly\\anaconda3\\lib\\site-packages\\torch\\nn\\modules\\rnn.py:62: UserWarning: dropout option adds dropout after all but last recurrent layer, so non-zero dropout expects num_layers greater than 1, but got dropout=0.1 and num_layers=1\n",
      "  warnings.warn(\"dropout option adds dropout after all but last \"\n"
     ]
    }
   ],
   "source": [
    "LSTM_model = LSTMTagger(N_input_features=134, hidden_dim=134, N_lstm_layers=1, dropout=0.1, # lstm\n",
    "                 N_1d_filters=3, kernel_size=5, # 1d convolution\n",
    "                 target_size=54, use_all_lstm_layers=True, # last linear layer\n",
    "                 ).to(device)\n",
    "\n",
    "loss_fn = nn.CrossEntropyLoss()\n",
    "\n",
    "optimizer = torch.optim.Adam(LSTM_model.parameters(), lr=5e-4)"
   ]
  },
  {
   "cell_type": "code",
   "execution_count": 30,
   "id": "71d9a4be",
   "metadata": {},
   "outputs": [],
   "source": [
    "from torchmetrics import Accuracy, AUROC, F1Score, Precision, Recall, AveragePrecision\n",
    "from collections import Counter\n",
    "from sklearn.metrics import accuracy_score\n",
    "\n",
    "accuracy = Accuracy(task=\"multiclass\", num_classes=54).to(device)\n",
    "f1_scorer = F1Score(task=\"multiclass\", num_classes=54).to(device)\n",
    "precision = Precision(task=\"multiclass\", num_classes=54).to(device)\n",
    "recall = Recall(task=\"multiclass\", num_classes=54).to(device)\n",
    "\n",
    "def validate(model, dl_test, metric):\n",
    "    res = []\n",
    "    with torch.no_grad():\n",
    "        model.eval()\n",
    "        for seq, tags in dl_test:\n",
    "            seq, tags = seq.to(device), tags.to(device)\n",
    "            pred_tags = model(seq)\n",
    "            \n",
    "            res.append(metric(torch.argmax(pred_tags, dim=1), tags).item())\n",
    "    model.train(True)\n",
    "    return np.mean(res)"
   ]
  },
  {
   "cell_type": "code",
   "execution_count": 31,
   "id": "1aa97aa0",
   "metadata": {},
   "outputs": [
    {
     "name": "stderr",
     "output_type": "stream",
     "text": [
      "100%|████████████████████████████████████████████████████████████████████████████████| 300/300 [04:56<00:00,  1.01it/s]\n"
     ]
    }
   ],
   "source": [
    "acc_test_r, acc_test_1, acc_test_2, acc_test_3, acc_test_4 = [], [], [], [], []\n",
    "prec_test_r, prec_test_1, prec_test_2, prec_test_3, prec_test_4 = [], [], [], [], []\n",
    "rec_test_r, rec_test_1, rec_test_2, rec_test_3, rec_test_4 = [], [], [], [], []\n",
    "\n",
    "precs = [prec_test_r, prec_test_1, prec_test_2, prec_test_3, prec_test_4]\n",
    "recs = [rec_test_r, rec_test_1, rec_test_2, rec_test_3, rec_test_4]\n",
    "\n",
    "dls = [DL_TEST_R, DL_TEST_1, DL_TEST_2, DL_TEST_3, DL_TEST_4]\n",
    "\n",
    "losses = []\n",
    "\n",
    "for epoch in tqdm(range(300)):\n",
    "\n",
    "    if epoch % 5 == 0:\n",
    "        for prec, rec, dl_test in zip(precs, recs, dls):\n",
    "            prec.append(validate(LSTM_model, dl_test, precision))\n",
    "            rec.append(validate(LSTM_model, dl_test, recall))\n",
    "\n",
    "        acc_test_r.append(validate(LSTM_model, DL_TEST_R, accuracy))\n",
    "        acc_test_1.append(validate(LSTM_model, DL_TEST_1, accuracy))\n",
    "        acc_test_2.append(validate(LSTM_model, DL_TEST_2, accuracy))\n",
    "        acc_test_3.append(validate(LSTM_model, DL_TEST_3, accuracy))\n",
    "        acc_test_4.append(validate(LSTM_model, DL_TEST_4, accuracy))\n",
    "\n",
    "    for seq, tags in DL_TRAIN:\n",
    "        LSTM_model.zero_grad()\n",
    "        seq, tags = seq.to(device), tags.to(device)\n",
    "        \n",
    "        # trimming\n",
    "        trim_coef = torch.randint(low=2,high=4,size=(1,))\n",
    "        seq = seq[::,::trim_coef,::]\n",
    "\n",
    "        pred_tags = LSTM_model(seq)\n",
    "        \n",
    "#         print('tags', tags.shape)\n",
    "#         print('pred_tags', pred_tags.shape)\n",
    "        \n",
    "        pred_tags = pred_tags.view(-1, pred_tags.shape[-1])\n",
    "\n",
    "        # Cross entropy input size is (N, C) N-batchsize, C-num_classes\n",
    "        # we can treat L(sequence length) as multiple of N\n",
    "        tags = tags.view(-1)\n",
    "        loss = loss_fn(pred_tags, tags)\n",
    "        \n",
    "        \n",
    "        loss.backward()\n",
    "        losses.append(loss.item())\n",
    "        optimizer.step()"
   ]
  },
  {
   "cell_type": "code",
   "execution_count": 40,
   "id": "7d32a76b",
   "metadata": {},
   "outputs": [],
   "source": [
    "torch.save(LSTM_model.state_dict(), 'LSTM_model_state_dict.pt')"
   ]
  },
  {
   "cell_type": "code",
   "execution_count": 32,
   "id": "7da8f602",
   "metadata": {},
   "outputs": [
    {
     "data": {
      "image/png": "[encoded data removed]",
      "text/plain": [
       "<Figure size 576x216 with 1 Axes>"
      ]
     },
     "metadata": {
      "needs_background": "light"
     },
     "output_type": "display_data"
    }
   ],
   "source": [
    "plt.figure(figsize=(8,3))\n",
    "plt.plot(losses)\n",
    "plt.grid(True)\n",
    "plt.show()"
   ]
  },
  {
   "cell_type": "code",
   "execution_count": 41,
   "id": "27149f78",
   "metadata": {},
   "outputs": [
    {
     "data": {
      "image/png": "[encoded data removed]",
      "text/plain": [
       "<Figure size 720x360 with 1 Axes>"
      ]
     },
     "metadata": {
      "needs_background": "light"
     },
     "output_type": "display_data"
    }
   ],
   "source": [
    "plt.figure(figsize=(10,5))\n",
    "plt.title('Precision')\n",
    "plt.plot(prec_test_r, label='prec random slice')\n",
    "plt.plot(prec_test_1, '--', label='prec 0:30 - empty')\n",
    "plt.plot(prec_test_2, label='prec 30:60')\n",
    "plt.plot(prec_test_3, label='prec 60:90')\n",
    "plt.plot(prec_test_4, '--', label='prec 90:120 - empty')\n",
    "\n",
    "plt.ylim(0,1.1)\n",
    "plt.grid(True)\n",
    "plt.legend(loc='lower center')\n",
    "plt.show()"
   ]
  },
  {
   "cell_type": "code",
   "execution_count": 42,
   "id": "ab1262c7",
   "metadata": {},
   "outputs": [
    {
     "data": {
      "image/png": "[encoded data removed]",
      "text/plain": [
       "<Figure size 720x360 with 1 Axes>"
      ]
     },
     "metadata": {
      "needs_background": "light"
     },
     "output_type": "display_data"
    }
   ],
   "source": [
    "plt.figure(figsize=(10,5))\n",
    "plt.title('Recall')\n",
    "plt.plot(rec_test_r, label='rec random slice')\n",
    "plt.plot(rec_test_1, '--', label='rec 0:30 - empty')\n",
    "plt.plot(rec_test_2, label='rec 30:60')\n",
    "plt.plot(rec_test_3, label='rec 60:90')\n",
    "plt.plot(rec_test_4, '--', label='rec 90:120 - empty')\n",
    "\n",
    "plt.ylim(0,1.1)\n",
    "plt.grid(True)\n",
    "plt.legend(loc='lower center')\n",
    "plt.show()"
   ]
  },
  {
   "cell_type": "code",
   "execution_count": 35,
   "id": "8f13ea79",
   "metadata": {},
   "outputs": [
    {
     "data": {
      "image/png": "[encoded data removed]",
      "text/plain": [
       "<Figure size 576x288 with 1 Axes>"
      ]
     },
     "metadata": {
      "needs_background": "light"
     },
     "output_type": "display_data"
    }
   ],
   "source": [
    "plt.figure(figsize=(8,4))\n",
    "plt.title('Accuracy')\n",
    "plt.plot(acc_test_r, label='acc random slice')\n",
    "plt.plot(acc_test_1, '--', label='acc 0:30 - empty')\n",
    "plt.plot(acc_test_2, label='acc 30:60')\n",
    "plt.plot(acc_test_3, label='acc 60:90')\n",
    "plt.plot(acc_test_4, '--', label='acc 90:120 - empty')\n",
    "\n",
    "plt.ylim(0,1.1)\n",
    "# plt.yticks([np.arange(11)/10])\n",
    "plt.grid(True)\n",
    "plt.legend(loc='lower center')\n",
    "plt.show()"
   ]
  },
  {
   "cell_type": "code",
   "execution_count": 36,
   "id": "750f0ad7",
   "metadata": {},
   "outputs": [],
   "source": [
    "for x, y in DL_TEST_F:\n",
    "    break"
   ]
  },
  {
   "cell_type": "code",
   "execution_count": 43,
   "id": "fc68ae43",
   "metadata": {},
   "outputs": [],
   "source": [
    "x_conct = torch.concat([x[i] for i in range(15)])\n",
    "y_conct = np.concatenate([y[i].cpu().detach().numpy()*np.ones(120) for i in range(15)])\n",
    "\n",
    "\n",
    "res = []\n",
    "with torch.no_grad():\n",
    "    LSTM_model.eval()\n",
    "    for i in range(len(x_conct)-30):\n",
    "        x_slice = x_conct[i:i+30:1]\n",
    "        \n",
    "        pred_tags = LSTM_model(torch.unsqueeze(x_slice,0).to(device))\n",
    "        res.append(torch.argmax(pred_tags, dim=1).item())\n",
    "\n",
    "    "
   ]
  },
  {
   "cell_type": "code",
   "execution_count": 44,
   "id": "c8ac3b8b",
   "metadata": {},
   "outputs": [
    {
     "data": {
      "text/plain": [
       "torch.Size([1800, 134])"
      ]
     },
     "execution_count": 44,
     "metadata": {},
     "output_type": "execute_result"
    }
   ],
   "source": [
    "x_conct.shape"
   ]
  },
  {
   "cell_type": "code",
   "execution_count": 45,
   "id": "5325d2c4",
   "metadata": {},
   "outputs": [
    {
     "data": {
      "image/png": "[encoded data removed]",
      "text/plain": [
       "<Figure size 1296x288 with 1 Axes>"
      ]
     },
     "metadata": {
      "needs_background": "light"
     },
     "output_type": "display_data"
    }
   ],
   "source": [
    "plt.figure(figsize=(18,4))\n",
    "plt.plot(y_conct, 'g')\n",
    "plt.plot(res, 'r')\n",
    "plt.plot(x_conct[::,67+10].cpu().detach()*10)\n",
    "plt.xticks([120*i for i in range(15)])\n",
    "plt.grid(True)\n",
    "plt.show()"
   ]
  },
  {
   "cell_type": "markdown",
   "id": "19ab5442",
   "metadata": {},
   "source": [
    "### Classifiers"
   ]
  },
  {
   "cell_type": "code",
   "execution_count": 15,
   "id": "4dabc42c",
   "metadata": {},
   "outputs": [],
   "source": [
    "LDA = LinearDiscriminantAnalysis()\n",
    "KNN = KNeighborsClassifier(n_neighbors=5)\n",
    "RF = RandomForestClassifier(max_depth=10, n_estimators=50)\n",
    "LR = LogisticRegression()"
   ]
  },
  {
   "cell_type": "markdown",
   "id": "745d7825",
   "metadata": {},
   "source": [
    "### 1. Right/wrong window classifier"
   ]
  },
  {
   "cell_type": "code",
   "execution_count": null,
   "id": "175bf8e8",
   "metadata": {},
   "outputs": [],
   "source": []
  },
  {
   "cell_type": "code",
   "execution_count": 16,
   "id": "a7bcbacc",
   "metadata": {},
   "outputs": [
    {
     "name": "stderr",
     "output_type": "stream",
     "text": [
      "100%|███████████████████████████████████████████████████████████████████████████████| 21/21 [00:00<00:00, 21076.90it/s]"
     ]
    },
    {
     "name": "stdout",
     "output_type": "stream",
     "text": [
      "18\n",
      "3\n"
     ]
    },
    {
     "name": "stderr",
     "output_type": "stream",
     "text": [
      "\n"
     ]
    }
   ],
   "source": [
    "window_data_true = []\n",
    "window_data_false = []\n",
    "\n",
    "window_size = 20\n",
    "steps = np.arange(0,101,5)\n",
    "\n",
    "for strt in tqdm(steps):\n",
    "    data_3d_slice = data_3d_train[::,::,::]\n",
    "    data_2d = data_3d_slice[::,strt:strt+window_size,::].reshape(data_3d_slice.shape[0],\n",
    "                                                                 window_size*data_3d_slice.shape[2])\n",
    "    if strt >= 20 and strt <= 30:\n",
    "        window_data_true.append(data_2d)\n",
    "    else:\n",
    "        window_data_false.append(data_2d)\n",
    "        \n",
    "print(len(window_data_false))\n",
    "print(len(window_data_true))"
   ]
  },
  {
   "cell_type": "code",
   "execution_count": 17,
   "id": "7ca85a86",
   "metadata": {},
   "outputs": [],
   "source": [
    "def rnd_indx(coef=3/18):\n",
    "    return np.random.choice(window_data_true[0].shape[0], size=int(window_data_true[0].shape[0]*coef))"
   ]
  },
  {
   "cell_type": "code",
   "execution_count": 18,
   "id": "c0b8c929",
   "metadata": {},
   "outputs": [
    {
     "name": "stdout",
     "output_type": "stream",
     "text": [
      "(38607, 2680)\n",
      "38607\n"
     ]
    }
   ],
   "source": [
    "window_data_array_true = np.concatenate(window_data_true)\n",
    "window_data_array_false = np.concatenate([x[rnd_indx()] for x in window_data_false])\n",
    "window_data_array = np.concatenate([window_data_array_true, window_data_array_false])\n",
    "window_labels = [1]*window_data_array_true.shape[0] + [0]*window_data_array_false.shape[0]\n",
    "\n",
    "\n",
    "window_data_array, window_labels = shuffle(window_data_array, window_labels, random_state=0)\n",
    "\n",
    "print(window_data_array.shape)\n",
    "print(len(window_labels))"
   ]
  },
  {
   "cell_type": "code",
   "execution_count": 22,
   "id": "913e62d8",
   "metadata": {},
   "outputs": [],
   "source": [
    "from sklearn.pipeline import Pipeline\n",
    "pipe = Pipeline([('scaler', StandardScaler()), ('LR', LogisticRegression())])"
   ]
  },
  {
   "cell_type": "code",
   "execution_count": 23,
   "id": "4dca0a48",
   "metadata": {},
   "outputs": [],
   "source": [
    "# scaler = StandardScaler()\n",
    "# data_2d_window = scaler.fit_transform(window_data_array.T).T"
   ]
  },
  {
   "cell_type": "code",
   "execution_count": 24,
   "id": "f9ed6431",
   "metadata": {},
   "outputs": [
    {
     "name": "stderr",
     "output_type": "stream",
     "text": [
      "C:\\Users\\79219\\anaconda3\\lib\\site-packages\\sklearn\\linear_model\\_logistic.py:814: ConvergenceWarning: lbfgs failed to converge (status=1):\n",
      "STOP: TOTAL NO. of ITERATIONS REACHED LIMIT.\n",
      "\n",
      "Increase the number of iterations (max_iter) or scale the data as shown in:\n",
      "    https://scikit-learn.org/stable/modules/preprocessing.html\n",
      "Please also refer to the documentation for alternative solver options:\n",
      "    https://scikit-learn.org/stable/modules/linear_model.html#logistic-regression\n",
      "  n_iter_i = _check_optimize_result(\n",
      "C:\\Users\\79219\\anaconda3\\lib\\site-packages\\sklearn\\linear_model\\_logistic.py:814: ConvergenceWarning: lbfgs failed to converge (status=1):\n",
      "STOP: TOTAL NO. of ITERATIONS REACHED LIMIT.\n",
      "\n",
      "Increase the number of iterations (max_iter) or scale the data as shown in:\n",
      "    https://scikit-learn.org/stable/modules/preprocessing.html\n",
      "Please also refer to the documentation for alternative solver options:\n",
      "    https://scikit-learn.org/stable/modules/linear_model.html#logistic-regression\n",
      "  n_iter_i = _check_optimize_result(\n",
      "C:\\Users\\79219\\anaconda3\\lib\\site-packages\\sklearn\\linear_model\\_logistic.py:814: ConvergenceWarning: lbfgs failed to converge (status=1):\n",
      "STOP: TOTAL NO. of ITERATIONS REACHED LIMIT.\n",
      "\n",
      "Increase the number of iterations (max_iter) or scale the data as shown in:\n",
      "    https://scikit-learn.org/stable/modules/preprocessing.html\n",
      "Please also refer to the documentation for alternative solver options:\n",
      "    https://scikit-learn.org/stable/modules/linear_model.html#logistic-regression\n",
      "  n_iter_i = _check_optimize_result(\n",
      "C:\\Users\\79219\\anaconda3\\lib\\site-packages\\sklearn\\linear_model\\_logistic.py:814: ConvergenceWarning: lbfgs failed to converge (status=1):\n",
      "STOP: TOTAL NO. of ITERATIONS REACHED LIMIT.\n",
      "\n",
      "Increase the number of iterations (max_iter) or scale the data as shown in:\n",
      "    https://scikit-learn.org/stable/modules/preprocessing.html\n",
      "Please also refer to the documentation for alternative solver options:\n",
      "    https://scikit-learn.org/stable/modules/linear_model.html#logistic-regression\n",
      "  n_iter_i = _check_optimize_result(\n",
      "C:\\Users\\79219\\anaconda3\\lib\\site-packages\\sklearn\\linear_model\\_logistic.py:814: ConvergenceWarning: lbfgs failed to converge (status=1):\n",
      "STOP: TOTAL NO. of ITERATIONS REACHED LIMIT.\n",
      "\n",
      "Increase the number of iterations (max_iter) or scale the data as shown in:\n",
      "    https://scikit-learn.org/stable/modules/preprocessing.html\n",
      "Please also refer to the documentation for alternative solver options:\n",
      "    https://scikit-learn.org/stable/modules/linear_model.html#logistic-regression\n",
      "  n_iter_i = _check_optimize_result(\n"
     ]
    },
    {
     "name": "stdout",
     "output_type": "stream",
     "text": [
      "[0.88940689 0.88720539 0.88498899 0.89094677 0.88460044]\n"
     ]
    }
   ],
   "source": [
    "cv_scores = cross_val_score(estimator=pipe, X=window_data_array, y=window_labels)\n",
    "print(cv_scores)"
   ]
  },
  {
   "cell_type": "code",
   "execution_count": 25,
   "id": "252c6eb1",
   "metadata": {},
   "outputs": [
    {
     "name": "stderr",
     "output_type": "stream",
     "text": [
      "C:\\Users\\79219\\anaconda3\\lib\\site-packages\\sklearn\\linear_model\\_logistic.py:814: ConvergenceWarning: lbfgs failed to converge (status=1):\n",
      "STOP: TOTAL NO. of ITERATIONS REACHED LIMIT.\n",
      "\n",
      "Increase the number of iterations (max_iter) or scale the data as shown in:\n",
      "    https://scikit-learn.org/stable/modules/preprocessing.html\n",
      "Please also refer to the documentation for alternative solver options:\n",
      "    https://scikit-learn.org/stable/modules/linear_model.html#logistic-regression\n",
      "  n_iter_i = _check_optimize_result(\n"
     ]
    },
    {
     "data": {
      "text/plain": [
       "Pipeline(steps=[('scaler', StandardScaler()), ('LR', LogisticRegression())])"
      ]
     },
     "execution_count": 25,
     "metadata": {},
     "output_type": "execute_result"
    }
   ],
   "source": [
    "LR_window_clf = Pipeline([('scaler', StandardScaler()), ('LR', LR)])\n",
    "LR_window_clf.fit(window_data_array, window_labels)"
   ]
  },
  {
   "cell_type": "code",
   "execution_count": 31,
   "id": "8e232dba",
   "metadata": {},
   "outputs": [],
   "source": [
    "with open('LR_window_clf.pkl', 'wb') as f:\n",
    "    pickle.dump(LR_window_clf, f)"
   ]
  },
  {
   "cell_type": "markdown",
   "id": "83e0ea8f",
   "metadata": {},
   "source": [
    "### 2. Gesture classifier"
   ]
  },
  {
   "cell_type": "code",
   "execution_count": 27,
   "id": "1d616ec2",
   "metadata": {},
   "outputs": [
    {
     "name": "stderr",
     "output_type": "stream",
     "text": [
      "C:\\Users\\79219\\anaconda3\\lib\\site-packages\\sklearn\\linear_model\\_logistic.py:814: ConvergenceWarning: lbfgs failed to converge (status=1):\n",
      "STOP: TOTAL NO. of ITERATIONS REACHED LIMIT.\n",
      "\n",
      "Increase the number of iterations (max_iter) or scale the data as shown in:\n",
      "    https://scikit-learn.org/stable/modules/preprocessing.html\n",
      "Please also refer to the documentation for alternative solver options:\n",
      "    https://scikit-learn.org/stable/modules/linear_model.html#logistic-regression\n",
      "  n_iter_i = _check_optimize_result(\n",
      "C:\\Users\\79219\\anaconda3\\lib\\site-packages\\sklearn\\linear_model\\_logistic.py:814: ConvergenceWarning: lbfgs failed to converge (status=1):\n",
      "STOP: TOTAL NO. of ITERATIONS REACHED LIMIT.\n",
      "\n",
      "Increase the number of iterations (max_iter) or scale the data as shown in:\n",
      "    https://scikit-learn.org/stable/modules/preprocessing.html\n",
      "Please also refer to the documentation for alternative solver options:\n",
      "    https://scikit-learn.org/stable/modules/linear_model.html#logistic-regression\n",
      "  n_iter_i = _check_optimize_result(\n",
      "C:\\Users\\79219\\anaconda3\\lib\\site-packages\\sklearn\\linear_model\\_logistic.py:814: ConvergenceWarning: lbfgs failed to converge (status=1):\n",
      "STOP: TOTAL NO. of ITERATIONS REACHED LIMIT.\n",
      "\n",
      "Increase the number of iterations (max_iter) or scale the data as shown in:\n",
      "    https://scikit-learn.org/stable/modules/preprocessing.html\n",
      "Please also refer to the documentation for alternative solver options:\n",
      "    https://scikit-learn.org/stable/modules/linear_model.html#logistic-regression\n",
      "  n_iter_i = _check_optimize_result(\n",
      "C:\\Users\\79219\\anaconda3\\lib\\site-packages\\sklearn\\linear_model\\_logistic.py:814: ConvergenceWarning: lbfgs failed to converge (status=1):\n",
      "STOP: TOTAL NO. of ITERATIONS REACHED LIMIT.\n",
      "\n",
      "Increase the number of iterations (max_iter) or scale the data as shown in:\n",
      "    https://scikit-learn.org/stable/modules/preprocessing.html\n",
      "Please also refer to the documentation for alternative solver options:\n",
      "    https://scikit-learn.org/stable/modules/linear_model.html#logistic-regression\n",
      "  n_iter_i = _check_optimize_result(\n",
      "C:\\Users\\79219\\anaconda3\\lib\\site-packages\\sklearn\\linear_model\\_logistic.py:814: ConvergenceWarning: lbfgs failed to converge (status=1):\n",
      "STOP: TOTAL NO. of ITERATIONS REACHED LIMIT.\n",
      "\n",
      "Increase the number of iterations (max_iter) or scale the data as shown in:\n",
      "    https://scikit-learn.org/stable/modules/preprocessing.html\n",
      "Please also refer to the documentation for alternative solver options:\n",
      "    https://scikit-learn.org/stable/modules/linear_model.html#logistic-regression\n",
      "  n_iter_i = _check_optimize_result(\n"
     ]
    },
    {
     "name": "stdout",
     "output_type": "stream",
     "text": [
      "[0.88739322 0.92490937 0.96815122 0.96426722 0.94355256]\n"
     ]
    }
   ],
   "source": [
    "gesture_labels = np.concatenate([labels_train for i in range(len(window_data_true))])\n",
    "gesture_data = window_data_array_true\n",
    "\n",
    "pipe = Pipeline([('scaler', StandardScaler()), ('LR', LogisticRegression())])\n",
    "\n",
    "cv_scores = cross_val_score(estimator=pipe, X=gesture_data, y=gesture_labels)\n",
    "print(cv_scores)"
   ]
  },
  {
   "cell_type": "code",
   "execution_count": 28,
   "id": "cdd3b640",
   "metadata": {},
   "outputs": [
    {
     "name": "stderr",
     "output_type": "stream",
     "text": [
      "C:\\Users\\79219\\anaconda3\\lib\\site-packages\\sklearn\\linear_model\\_logistic.py:814: ConvergenceWarning: lbfgs failed to converge (status=1):\n",
      "STOP: TOTAL NO. of ITERATIONS REACHED LIMIT.\n",
      "\n",
      "Increase the number of iterations (max_iter) or scale the data as shown in:\n",
      "    https://scikit-learn.org/stable/modules/preprocessing.html\n",
      "Please also refer to the documentation for alternative solver options:\n",
      "    https://scikit-learn.org/stable/modules/linear_model.html#logistic-regression\n",
      "  n_iter_i = _check_optimize_result(\n"
     ]
    },
    {
     "data": {
      "text/plain": [
       "Pipeline(steps=[('scaler', StandardScaler()), ('LR', LogisticRegression())])"
      ]
     },
     "execution_count": 28,
     "metadata": {},
     "output_type": "execute_result"
    }
   ],
   "source": [
    "LR_gesture_clf = Pipeline([('scaler', StandardScaler()), ('LR', LogisticRegression())])\n",
    "LR_gesture_clf.fit(gesture_data, gesture_labels)"
   ]
  },
  {
   "cell_type": "code",
   "execution_count": 32,
   "id": "025561c7",
   "metadata": {},
   "outputs": [],
   "source": [
    "with open('LR_gesture_clf.pkl', 'wb') as f:\n",
    "    pickle.dump(LR_gesture_clf, f)"
   ]
  },
  {
   "cell_type": "markdown",
   "id": "b30c78e0",
   "metadata": {},
   "source": [
    "### 3. Testing Window LDA + Gesture LDA"
   ]
  },
  {
   "cell_type": "code",
   "execution_count": 33,
   "id": "307bf747",
   "metadata": {},
   "outputs": [
    {
     "name": "stderr",
     "output_type": "stream",
     "text": [
      "100%|████████████████████████████████████████████████████████████████████████████████| 101/101 [00:02<00:00, 46.04it/s]\n"
     ]
    }
   ],
   "source": [
    "accuracy_list = []\n",
    "\n",
    "window_size = 20\n",
    "steps = np.arange(0,101,1)\n",
    "\n",
    "for strt in tqdm(steps):\n",
    "    data_3d_slice = data_3d_test[::,::,::]\n",
    "    data_2d = data_3d_slice[::,strt:strt+window_size,::].reshape(data_3d_slice.shape[0],\n",
    "                                                                 window_size*data_3d_slice.shape[2])\n",
    "    \n",
    "    pred_labels = np.ones_like(labels_test)*-1\n",
    "    pred_window_mask = LR_window_clf.predict(data_2d)\n",
    "    if np.sum(pred_window_mask) > 0:\n",
    "        data_2d_masked = data_2d[pred_window_mask==1]\n",
    "        pred_labels_masked = LR_gesture_clf.predict(data_2d_masked)\n",
    "        pred_labels[pred_window_mask==1] = pred_labels_masked\n",
    "    \n",
    "    acc = accuracy_score(labels_test, pred_labels)\n",
    "    accuracy_list.append(acc)"
   ]
  },
  {
   "cell_type": "code",
   "execution_count": 35,
   "id": "176a5384",
   "metadata": {},
   "outputs": [
    {
     "data": {
      "image/png": "[encoded data removed]",
      "text/plain": [
       "<Figure size 600x300 with 1 Axes>"
      ]
     },
     "metadata": {},
     "output_type": "display_data"
    }
   ],
   "source": [
    "plt.figure(figsize=(6,3))\n",
    "plt.title(f'LR window={window_size}')\n",
    "plt.plot(steps*2 + window_size//2, accuracy_list, 'r')\n",
    "\n",
    "plt.grid(True)\n",
    "plt.ylim(0,1)\n",
    "plt.xlim(0,110)\n",
    "plt.show()"
   ]
  },
  {
   "cell_type": "markdown",
   "id": "18d73d66",
   "metadata": {},
   "source": [
    "### Shifting window accuracy check"
   ]
  },
  {
   "cell_type": "code",
   "execution_count": null,
   "id": "6f3b3bff",
   "metadata": {},
   "outputs": [],
   "source": [
    "# from sklearn.utils import shuffle\n",
    "# labels = shuffle(labels, random_state=0)"
   ]
  },
  {
   "cell_type": "code",
   "execution_count": null,
   "id": "7d8f5912",
   "metadata": {},
   "outputs": [],
   "source": [
    "lda_scores_mean = []\n",
    "lda_scores_std = []\n",
    "steps = np.arange(0,41,5)\n",
    "window_size = 20\n",
    "for strt in tqdm(steps):\n",
    "    data_3d_slice = data_3d[::,::2,::]\n",
    "    data_2d = data_3d_slice[::,strt:strt+window_size,::].reshape(data_3d_slice.shape[0],window_size*data_3d_slice.shape[2])\n",
    "    \n",
    "    scaler = StandardScaler()\n",
    "    data_2d = scaler.fit_transform(data_2d.T).T\n",
    "    \n",
    "    cv_scores = cross_val_score(estimator=LDA, X=data_2d, y=labels)\n",
    "    lda_scores_mean.append(np.mean(cv_scores))\n",
    "    lda_scores_std.append(np.std(cv_scores))    "
   ]
  },
  {
   "cell_type": "code",
   "execution_count": null,
   "id": "dd307cb0",
   "metadata": {},
   "outputs": [],
   "source": [
    "data_3d_slice.shape"
   ]
  },
  {
   "cell_type": "code",
   "execution_count": null,
   "id": "0fc3d450",
   "metadata": {},
   "outputs": [],
   "source": [
    "1/len(np.unique(labels))"
   ]
  },
  {
   "cell_type": "code",
   "execution_count": null,
   "id": "28cdaea9",
   "metadata": {},
   "outputs": [],
   "source": [
    "plt.figure(figsize=(6,3))\n",
    "plt.title(f'LDA window={window_size}')\n",
    "plt.plot(steps*2 + window_size//2, np.array(lda_scores_mean) + 3*np.array(lda_scores_std), 'g', alpha=0.3)\n",
    "plt.plot(steps*2 + window_size//2, lda_scores_mean, 'r')\n",
    "plt.plot(steps*2 + window_size//2, np.array(lda_scores_mean) - 3*np.array(lda_scores_std), 'g', alpha=0.3)\n",
    "\n",
    "plt.grid(True)\n",
    "plt.ylim(0,1)\n",
    "plt.xlim(0,110)\n",
    "plt.show()"
   ]
  },
  {
   "cell_type": "markdown",
   "id": "3f9adc46",
   "metadata": {},
   "source": [
    "### Consequitive model"
   ]
  },
  {
   "cell_type": "code",
   "execution_count": null,
   "id": "319592a3",
   "metadata": {},
   "outputs": [],
   "source": [
    "window_size = 20\n",
    "\n",
    "data_3d_resh = np.concatenate([data_3d[::,20:40,::],\n",
    "                               ])\n",
    "\n",
    "print(data_3d_resh.shape)\n",
    "\n",
    "data_2d_resh = data_3d_resh.reshape(data_3d_resh.shape[0],\n",
    "                                    data_3d_resh.shape[1]*data_3d_resh.shape[2])\n",
    "print(data_2d_resh.shape)"
   ]
  },
  {
   "cell_type": "code",
   "execution_count": null,
   "id": "992bbf51",
   "metadata": {},
   "outputs": [],
   "source": [
    "scaler = StandardScaler()\n",
    "data_2d_resh = scaler.fit_transform(data_2d_resh.T).T"
   ]
  },
  {
   "cell_type": "code",
   "execution_count": null,
   "id": "acb7885d",
   "metadata": {},
   "outputs": [],
   "source": [
    "cv_scores = cross_val_score(estimator=LDA,\n",
    "                            X=data_2d_resh,\n",
    "                            y=np.concatenate([labels]*1),\n",
    "                            )\n",
    "print(cv_scores)"
   ]
  },
  {
   "cell_type": "markdown",
   "id": "3abc002b",
   "metadata": {},
   "source": [
    "### Sequential prediction"
   ]
  },
  {
   "cell_type": "code",
   "execution_count": null,
   "id": "125f583f",
   "metadata": {},
   "outputs": [],
   "source": [
    "from sklearn.model_selection import train_test_split\n",
    "from sklearn.metrics import accuracy_score\n",
    "\n",
    "X_train, X_test, y_train, y_test = train_test_split(data_3d, labels, test_size=0.2, random_state=42)\n",
    "print(X_train.shape)"
   ]
  },
  {
   "cell_type": "code",
   "execution_count": null,
   "id": "78095811",
   "metadata": {},
   "outputs": [],
   "source": [
    "window_size = 20\n",
    "\n",
    "X1 = X_train[::,0:window_size,::].reshape(X_train.shape[0],window_size*X_train.shape[2])\n",
    "X2 = X_train[::,20:20+window_size,::].reshape(X_train.shape[0],window_size*X_train.shape[2])\n",
    "X3 = X_train[::,40:40+window_size,::].reshape(X_train.shape[0],window_size*X_train.shape[2])\n",
    "X4 = X_train[::,60:60+window_size,::].reshape(X_train.shape[0],window_size*X_train.shape[2])\n",
    "X5 = X_train[::,80:80+window_size,::].reshape(X_train.shape[0],window_size*X_train.shape[2])\n",
    "\n",
    "print(X_train1.shape)"
   ]
  },
  {
   "cell_type": "code",
   "execution_count": null,
   "id": "e7d7f533",
   "metadata": {},
   "outputs": [],
   "source": [
    "# from sklearn.discriminant_analysis import LinearDiscriminantAnalysis as lda_model\n",
    "from sklearn.ensemble import RandomForestClassifier as lda_model\n",
    "LDA1, LDA2, LDA3, LDA4, LDA5 = lda_model(), lda_model(), lda_model(), lda_model(), lda_model()\n",
    "LDA1.fit(X1, y_train)\n",
    "LDA2.fit(X2, y_train)\n",
    "LDA3.fit(X3, y_train)\n",
    "LDA4.fit(X4, y_train)\n",
    "LDA5.fit(X5, y_train)"
   ]
  },
  {
   "cell_type": "code",
   "execution_count": null,
   "id": "e004edca",
   "metadata": {},
   "outputs": [],
   "source": [
    "p1, p2, p3, p4, p5 = [], [], [], [], []\n",
    "for X_slice in [X1, X2, X3, X4, X5]:\n",
    "    for model, p_list in zip([LDA1,LDA2,LDA3,LDA4,LDA5], [p1,p2,p3,p4,p5]):\n",
    "        p_list.append(model.predict_proba(X_slice))"
   ]
  },
  {
   "cell_type": "code",
   "execution_count": null,
   "id": "a972e1f0",
   "metadata": {},
   "outputs": [],
   "source": [
    "print(accuracy_score(y_train, np.argmax((p1[0] + p2[0] + p3[0] + p4[0] + p5[0])/5,  axis=1)))\n",
    "print(accuracy_score(y_train, np.argmax((p1[1] + p2[1] + p3[1] + p4[1] + p5[1])/5,  axis=1)))\n",
    "print(accuracy_score(y_train, np.argmax((p1[2] + p2[2] + p3[2] + p4[2] + p5[2])/5,  axis=1)))\n",
    "print(accuracy_score(y_train, np.argmax((p1[3] + p2[3] + p3[3] + p4[3] + p5[3])/5,  axis=1)))\n",
    "print(accuracy_score(y_train, np.argmax((p1[4] + p2[4] + p3[4] + p4[4] + p5[4])/5,  axis=1)))"
   ]
  },
  {
   "cell_type": "code",
   "execution_count": null,
   "id": "c5c3164d",
   "metadata": {},
   "outputs": [],
   "source": [
    "aaa = (p1[0] + p2[0] + p3[0] + p4[0] + p5[0])/5\n",
    "bbb = (p1[4] + p2[4] + p3[4] + p4[4] + p5[4])/5\n",
    "\n",
    "plt.figure(figsize=(6,2))\n",
    "plt.plot(aaa[50], 'r')\n",
    "plt.plot(bbb[50], 'g')\n",
    "plt.show()"
   ]
  },
  {
   "cell_type": "code",
   "execution_count": null,
   "id": "266ddaa8",
   "metadata": {},
   "outputs": [],
   "source": [
    "cnt = 0\n",
    "for i in range(aaa.shape[0]):\n",
    "    if np.max(aaa[i]) > np.max(bbb[i]):\n",
    "        cnt += 1\n",
    "print(cnt)"
   ]
  },
  {
   "cell_type": "code",
   "execution_count": null,
   "id": "ab51fcdd",
   "metadata": {},
   "outputs": [],
   "source": [
    "print(accuracy_score(y_train, np.argmax(np.array(p5)[4], axis=1)))\n",
    "print(accuracy_score(y_train, np.argmax(np.mean(np.array(p5),axis=0), axis=1)))"
   ]
  },
  {
   "cell_type": "code",
   "execution_count": null,
   "id": "203d0959",
   "metadata": {},
   "outputs": [],
   "source": [
    "p1m, p2m, p3m, p4m, p5m = np.mean(p1,axis=0),np.mean(p2,axis=0),np.mean(p3,axis=0),np.mean(p4,axis=0), np.mean(p5,axis=0)\n",
    "ppm = (p1m + p2m + p3m + p4m + p5m)/5\n",
    "print(accuracy_score(y_train, np.argmax(ppm,  axis=1)))"
   ]
  },
  {
   "cell_type": "code",
   "execution_count": null,
   "id": "52d2ac6e",
   "metadata": {},
   "outputs": [],
   "source": [
    "final_features = np.concatenate(p1+p2+p3+p4+p5, axis=1)\n",
    "print(final_features.shape)\n",
    "\n",
    "LDA_final = lda_model()\n",
    "LDA_final.fit(final_features, y_train)"
   ]
  },
  {
   "cell_type": "markdown",
   "id": "b5ba23fc",
   "metadata": {},
   "source": [
    "### prediction"
   ]
  },
  {
   "cell_type": "code",
   "execution_count": null,
   "id": "d5f06fe9",
   "metadata": {},
   "outputs": [],
   "source": [
    "window_size = 20\n",
    "\n",
    "X1t = X_test[::,0:window_size,::].reshape(X_test.shape[0],window_size*X_train.shape[2])\n",
    "X2t = X_test[::,20:20+window_size,::].reshape(X_test.shape[0],window_size*X_train.shape[2])\n",
    "X3t = X_test[::,20:20+window_size,::].reshape(X_test.shape[0],window_size*X_train.shape[2])\n",
    "X4t = X_test[::,20:20+window_size,::].reshape(X_test.shape[0],window_size*X_train.shape[2])\n",
    "X5t = X_test[::,20:20+window_size,::].reshape(X_test.shape[0],window_size*X_train.shape[2])\n",
    "\n",
    "print(X1t.shape)\n",
    "\n",
    "p1t, p2t, p3t, p4t, p5t = [], [], [], [], []\n",
    "for X_slice in [X1t, X2t, X3t, X4t, X5t]:\n",
    "    for model, p_list in zip([LDA1,LDA2,LDA3,LDA4,LDA5], [p1t,p2t,p3t,p4t,p5t]):\n",
    "        p_list.append(model.predict_proba(X_slice))\n",
    "        "
   ]
  },
  {
   "cell_type": "code",
   "execution_count": null,
   "id": "6028446a",
   "metadata": {},
   "outputs": [],
   "source": [
    "p1mt, p2mt, p3mt, p4mt, p5mt = np.mean(p1t,axis=0),np.mean(p2t,axis=0),np.mean(p3t,axis=0),np.mean(p4t,axis=0), np.mean(p5t,axis=0)\n",
    "ppmt = (p1mt + p2mt + p3mt + p4mt + p5mt)/5\n",
    "print(accuracy_score(y_test, np.argmax((p1t[0] + p2t[0] + p3t[0] + p4t[0] + p5t[0])/5,  axis=1)))\n",
    "print(accuracy_score(y_test, np.argmax((p1t[1] + p2t[1] + p3t[1] + p4t[1] + p5t[1])/5,  axis=1)))\n",
    "print(accuracy_score(y_test, np.argmax((p1t[2] + p2t[2] + p3t[2] + p4t[2] + p5t[2])/5,  axis=1)))\n",
    "print(accuracy_score(y_test, np.argmax((p1t[3] + p2t[3] + p3t[3] + p4t[3] + p5t[3])/5,  axis=1)))\n",
    "print(accuracy_score(y_test, np.argmax((p1t[4] + p2t[4] + p3t[4] + p4t[4] + p5t[4])/5,  axis=1)))"
   ]
  },
  {
   "cell_type": "code",
   "execution_count": null,
   "id": "bdba8e77",
   "metadata": {},
   "outputs": [],
   "source": [
    "p1, p2, p3, p4, p5 = [], [], [], [], []\n",
    "for X_slice in [X1, X2, X3, X4, X5]:\n",
    "    for model, p_list in zip([LDA1,LDA2,LDA3,LDA4,LDA5], [p1,p2,p3,p4,p5]):\n",
    "        p_list.append(model.predict_log_proba(X_slice))"
   ]
  },
  {
   "cell_type": "code",
   "execution_count": null,
   "id": "9c2ddb33",
   "metadata": {},
   "outputs": [],
   "source": [
    "NNN = 11\n",
    "print(y_test[NNN])\n",
    "print(np.argmax(LDA.predict_proba(X_test[NNN].reshape(1, -1))))\n",
    "\n",
    "plt.figure(figsize=(6,2))\n",
    "plt.plot(LDA.predict_proba(X_test[NNN].reshape(1, -1))[0])\n",
    "plt.yscale('log')\n",
    "plt.ylim(1e-32, 10)\n",
    "plt.show()"
   ]
  },
  {
   "cell_type": "code",
   "execution_count": null,
   "id": "5a957a70",
   "metadata": {},
   "outputs": [],
   "source": []
  },
  {
   "cell_type": "code",
   "execution_count": null,
   "id": "e378f2af",
   "metadata": {},
   "outputs": [],
   "source": [
    "def generate_resp(x):\n",
    "    p1 = LDA.predict_proba(x.reshape(1, -1))\n",
    "    p2 = LDA.predict_proba(x.reshape(1, -1))    \n",
    "    p3 = LDA.predict_proba(x.reshape(1, -1))    \n",
    "    p4 = LDA.predict_proba(x.reshape(1, -1))    \n",
    "    p5 = LDA.predict_proba(x.reshape(1, -1))    \n",
    "    p_res = np.concatenate([p1,p2,p3,p4,p5])\n",
    "#     print(p_res.shape)\n",
    "    return np.mean(p_res,axis=0)"
   ]
  },
  {
   "cell_type": "code",
   "execution_count": null,
   "id": "65d4b206",
   "metadata": {},
   "outputs": [],
   "source": []
  },
  {
   "cell_type": "code",
   "execution_count": null,
   "id": "8ce48d66",
   "metadata": {},
   "outputs": [],
   "source": [
    "%timeit generate_resp(data_2d_resh[10].reshape(-1,1))"
   ]
  }
 ],
 "metadata": {
  "kernelspec": {
   "display_name": "Python 3 (ipykernel)",
   "language": "python",
   "name": "python3"
  },
  "language_info": {
   "codemirror_mode": {
    "name": "ipython",
    "version": 3
   },
   "file_extension": ".py",
   "mimetype": "text/x-python",
   "name": "python",
   "nbconvert_exporter": "python",
   "pygments_lexer": "ipython3",
   "version": "3.9.12"
  }
 },
 "nbformat": 4,
 "nbformat_minor": 5
}
